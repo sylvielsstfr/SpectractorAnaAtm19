{
 "cells": [
  {
   "cell_type": "markdown",
   "metadata": {},
   "source": [
    "# Example if call LibRadTran from the notebook\n",
    "=======================================================================\n",
    "\n",
    "- Sylvie Dagoret-Campagne\n",
    "- update 31 May 2019\n",
    "\n",
    "\n",
    "\n",
    "Simple test to call on-line libradtran to check if it is working"
   ]
  },
  {
   "cell_type": "code",
   "execution_count": 1,
   "metadata": {},
   "outputs": [],
   "source": [
    "%load_ext autoreload\n",
    "%autoreload 2"
   ]
  },
  {
   "cell_type": "code",
   "execution_count": 2,
   "metadata": {},
   "outputs": [],
   "source": [
    "import matplotlib.pyplot as plt\n",
    "%matplotlib inline\n",
    "import sys\n",
    "import os"
   ]
  },
  {
   "cell_type": "code",
   "execution_count": 3,
   "metadata": {},
   "outputs": [],
   "source": [
    "import numpy as np"
   ]
  },
  {
   "cell_type": "code",
   "execution_count": 4,
   "metadata": {},
   "outputs": [],
   "source": [
    "import matplotlib.pyplot as plt\n",
    "import matplotlib.colors as colors\n",
    "import matplotlib.cm as cmx"
   ]
  },
  {
   "cell_type": "code",
   "execution_count": 5,
   "metadata": {},
   "outputs": [],
   "source": [
    "plt.rcParams[\"axes.labelsize\"]=\"large\"\n",
    "plt.rcParams[\"axes.linewidth\"]=2.0\n",
    "plt.rcParams[\"xtick.major.size\"]=8\n",
    "plt.rcParams[\"ytick.major.size\"]=8\n",
    "plt.rcParams[\"ytick.minor.size\"]=5\n",
    "plt.rcParams[\"xtick.labelsize\"]=\"large\"\n",
    "plt.rcParams[\"ytick.labelsize\"]=\"large\"\n",
    "plt.rcParams[\"figure.figsize\"]=(12,6)\n",
    "plt.rcParams['axes.titlesize'] = 16\n",
    "plt.rcParams['axes.titleweight'] = 'bold'\n",
    "#plt.rcParams['axes.facecolor'] = 'blue'\n",
    "plt.rcParams['xtick.direction'] = 'out'\n",
    "plt.rcParams['ytick.direction'] = 'out'\n",
    "plt.rcParams['lines.markeredgewidth'] = 0.3 # the line width around the marker symbol\n",
    "plt.rcParams['lines.markersize'] = 10  # markersize, in points\n",
    "plt.rcParams['grid.alpha'] = 0.75 # transparency, between 0.0 and 1.0\n",
    "plt.rcParams['grid.linestyle'] = '-' # simple line\n",
    "plt.rcParams['grid.linewidth'] = 0.4 # in points"
   ]
  },
  {
   "cell_type": "code",
   "execution_count": 6,
   "metadata": {},
   "outputs": [],
   "source": [
    "from scipy.interpolate import interp1d"
   ]
  },
  {
   "cell_type": "code",
   "execution_count": 7,
   "metadata": {},
   "outputs": [
    {
     "name": "stdout",
     "output_type": "stream",
     "text": [
      "/Users/dagoret/MacOSX/External/libRadtran/libRadtran-2.0.1/\n"
     ]
    }
   ],
   "source": [
    "from librtsimana import *\n",
    "#from libsimulateTranspCTIOScattAbsAer3 import *\n",
    "from libsimulateTranspPDMScattAbsAer3 import *\n",
    "#from libsimulateTranspOHPScattAbsAer3 import *"
   ]
  },
  {
   "cell_type": "code",
   "execution_count": 8,
   "metadata": {},
   "outputs": [
    {
     "data": {
      "text/plain": [
       "'/Users/dagoret/MacOSX/External/libRadtran/libRadtran-2.0.1'"
      ]
     },
     "execution_count": 8,
     "metadata": {},
     "output_type": "execute_result"
    }
   ],
   "source": [
    "os.getenv('LIBRADTRANDIR')"
   ]
  },
  {
   "cell_type": "code",
   "execution_count": 9,
   "metadata": {},
   "outputs": [
    {
     "name": "stdout",
     "output_type": "stream",
     "text": [
      "The autoreload extension is already loaded. To reload it, use:\n",
      "  %reload_ext autoreload\n"
     ]
    }
   ],
   "source": [
    "%load_ext autoreload\n",
    "%autoreload 2"
   ]
  },
  {
   "cell_type": "code",
   "execution_count": 10,
   "metadata": {},
   "outputs": [],
   "source": [
    "airmass=1.0\n",
    "pressure = 712\n",
    "pwv=1.0\n",
    "aer=0\n",
    "ozone=300."
   ]
  },
  {
   "cell_type": "markdown",
   "metadata": {},
   "source": [
    "## Pressure"
   ]
  },
  {
   "cell_type": "code",
   "execution_count": 12,
   "metadata": {},
   "outputs": [],
   "source": [
    "variations=np.linspace(0,0.1,11)"
   ]
  },
  {
   "cell_type": "code",
   "execution_count": 14,
   "metadata": {},
   "outputs": [],
   "source": [
    "all_aerosols=variations"
   ]
  },
  {
   "cell_type": "code",
   "execution_count": 15,
   "metadata": {},
   "outputs": [],
   "source": [
    "NBOBS=len(all_aerosols)"
   ]
  },
  {
   "cell_type": "code",
   "execution_count": 16,
   "metadata": {},
   "outputs": [],
   "source": [
    "jet = plt.get_cmap('jet')\n",
    "cNorm = colors.Normalize(vmin=0, vmax=NBOBS)\n",
    "scalarMap = cmx.ScalarMappable(norm=cNorm, cmap=jet)\n",
    "all_colors = scalarMap.to_rgba(np.arange( NBOBS), alpha=1)"
   ]
  },
  {
   "cell_type": "code",
   "execution_count": 17,
   "metadata": {},
   "outputs": [],
   "source": [
    "all_transmission=np.zeros((NBWL,NBOBS))"
   ]
  },
  {
   "cell_type": "code",
   "execution_count": 18,
   "metadata": {},
   "outputs": [],
   "source": [
    "#path,thefile=ProcessSimulation(airmass,pwv,ozone,pressure,prof_str='us',proc_str='sa')\n",
    "path,thefile=ProcessSimulationaer(airmass,pwv,ozone,0,pressure,prof_str='us',proc_str='sa')\n",
    "data = np.loadtxt(os.path.join(path,thefile))\n",
    "wl0 = data[:,0]\n",
    "atm0 = data[:,1]  \n",
    "func0=interp1d(wl0,atm0,kind='linear') \n",
    "transm0=func0(WL)"
   ]
  },
  {
   "cell_type": "code",
   "execution_count": 19,
   "metadata": {},
   "outputs": [
    {
     "ename": "NameError",
     "evalue": "name 'all_all_aerosols' is not defined",
     "output_type": "error",
     "traceback": [
      "\u001b[0;31m---------------------------------------------------------------------------\u001b[0m",
      "\u001b[0;31mNameError\u001b[0m                                 Traceback (most recent call last)",
      "\u001b[0;32m<ipython-input-19-10410b7322d5>\u001b[0m in \u001b[0;36m<module>\u001b[0;34m\u001b[0m\n\u001b[1;32m      1\u001b[0m \u001b[0midx\u001b[0m\u001b[0;34m=\u001b[0m\u001b[0;36m0\u001b[0m\u001b[0;34m\u001b[0m\u001b[0;34m\u001b[0m\u001b[0m\n\u001b[0;32m----> 2\u001b[0;31m \u001b[0;32mfor\u001b[0m \u001b[0maer\u001b[0m \u001b[0;32min\u001b[0m \u001b[0mall_all_aerosols\u001b[0m\u001b[0;34m:\u001b[0m\u001b[0;34m\u001b[0m\u001b[0;34m\u001b[0m\u001b[0m\n\u001b[0m\u001b[1;32m      3\u001b[0m     \u001b[0;31m#path,thefile=ProcessSimulation(airmass,pwv,ozone,press,prof_str='us',proc_str='sa')\u001b[0m\u001b[0;34m\u001b[0m\u001b[0;34m\u001b[0m\u001b[0;34m\u001b[0m\u001b[0m\n\u001b[1;32m      4\u001b[0m     \u001b[0mpath\u001b[0m\u001b[0;34m,\u001b[0m\u001b[0mthefile\u001b[0m\u001b[0;34m=\u001b[0m\u001b[0mProcessSimulationaer\u001b[0m\u001b[0;34m(\u001b[0m\u001b[0mairmass\u001b[0m\u001b[0;34m,\u001b[0m\u001b[0mpwv\u001b[0m\u001b[0;34m,\u001b[0m\u001b[0mozone\u001b[0m\u001b[0;34m,\u001b[0m\u001b[0maer\u001b[0m\u001b[0;34m,\u001b[0m\u001b[0mpressure\u001b[0m\u001b[0;34m,\u001b[0m\u001b[0mprof_str\u001b[0m\u001b[0;34m=\u001b[0m\u001b[0;34m'us'\u001b[0m\u001b[0;34m,\u001b[0m\u001b[0mproc_str\u001b[0m\u001b[0;34m=\u001b[0m\u001b[0;34m'sa'\u001b[0m\u001b[0;34m)\u001b[0m\u001b[0;34m\u001b[0m\u001b[0;34m\u001b[0m\u001b[0m\n\u001b[1;32m      5\u001b[0m     \u001b[0mdata\u001b[0m \u001b[0;34m=\u001b[0m \u001b[0mnp\u001b[0m\u001b[0;34m.\u001b[0m\u001b[0mloadtxt\u001b[0m\u001b[0;34m(\u001b[0m\u001b[0mos\u001b[0m\u001b[0;34m.\u001b[0m\u001b[0mpath\u001b[0m\u001b[0;34m.\u001b[0m\u001b[0mjoin\u001b[0m\u001b[0;34m(\u001b[0m\u001b[0mpath\u001b[0m\u001b[0;34m,\u001b[0m\u001b[0mthefile\u001b[0m\u001b[0;34m)\u001b[0m\u001b[0;34m)\u001b[0m\u001b[0;34m\u001b[0m\u001b[0;34m\u001b[0m\u001b[0m\n",
      "\u001b[0;31mNameError\u001b[0m: name 'all_all_aerosols' is not defined"
     ]
    }
   ],
   "source": [
    "idx=0\n",
    "for aer in all_all_aerosols:\n",
    "    #path,thefile=ProcessSimulation(airmass,pwv,ozone,press,prof_str='us',proc_str='sa')\n",
    "    path,thefile=ProcessSimulationaer(airmass,pwv,ozone,aer,pressure,prof_str='us',proc_str='sa')\n",
    "    data = np.loadtxt(os.path.join(path,thefile))\n",
    "    wl = data[:,0]\n",
    "    atm = data[:,1]  \n",
    "    func=interp1d(wl,atm,kind='linear') \n",
    "    transm=func(WL)\n",
    "    all_transmission[:,idx]=transm\n",
    "    idx+=1"
   ]
  },
  {
   "cell_type": "code",
   "execution_count": null,
   "metadata": {},
   "outputs": [],
   "source": [
    "fig = plt.figure()\n",
    "ax = fig.add_subplot(111)   \n",
    "idx=0\n",
    "for aer in all_aerosols:\n",
    "    colorVal = scalarMap.to_rgba(idx, alpha=1)\n",
    "    ax.plot(WL,2.5*np.log10(all_transmission[:,idx]),color=colorVal)\n",
    "    idx+=1\n",
    "ax.plot(WL,2.5*np.log10(transm0),'k')\n",
    "ax.set_xlabel(\"$\\lambda$ (nm)\",fontsize=20)\n",
    "ax.set_ylabel(\"Atmospheric attenuation (mag)\",fontsize=20)\n",
    "ax.set_title(\"Atmospheric attenuation, airmass=1\")\n",
    "ax.set_ylim(-.4,0.)\n",
    "ax.grid()"
   ]
  },
  {
   "cell_type": "code",
   "execution_count": null,
   "metadata": {},
   "outputs": [],
   "source": [
    "idx=0\n",
    "for aer in all_aerosols:\n",
    "    colorVal = scalarMap.to_rgba(idx, alpha=1)\n",
    "    label=\"$\\tau_{aer}(500nm)$ = {:1.2f} \".format(aer)\n",
    "    plt.plot(WL,2.5*np.log10(all_transmission[:,idx]/transm0),color=colorVal,label=label)\n",
    "    idx+=1\n",
    "plt.xlabel(\"$\\lambda$ (nm)\")\n",
    "plt.ylabel(\"Atmospheric attenuation bias(mag)\")\n",
    "plt.title(\"Atmospheric attenuation bias aerosols variations, z=1\")\n",
    "plt.ylim(-0.02,0.02)\n",
    "plt.xlim(300,1300)\n",
    "plt.grid()\n",
    "plt.legend(loc=\"upper right\",fontsize=15)"
   ]
  },
  {
   "cell_type": "code",
   "execution_count": null,
   "metadata": {},
   "outputs": [],
   "source": [
    "assert False"
   ]
  },
  {
   "cell_type": "code",
   "execution_count": null,
   "metadata": {},
   "outputs": [],
   "source": [
    "np.savetxt('transmission.txt',all_transmission)"
   ]
  }
 ],
 "metadata": {
  "anaconda-cloud": {},
  "kernelspec": {
   "display_name": "Python 3",
   "language": "python",
   "name": "python3"
  },
  "language_info": {
   "codemirror_mode": {
    "name": "ipython",
    "version": 3
   },
   "file_extension": ".py",
   "mimetype": "text/x-python",
   "name": "python",
   "nbconvert_exporter": "python",
   "pygments_lexer": "ipython3",
   "version": "3.7.1"
  },
  "toc": {
   "nav_menu": {
    "height": "12px",
    "width": "252px"
   },
   "number_sections": true,
   "sideBar": true,
   "skip_h1_title": false,
   "toc_cell": false,
   "toc_position": {},
   "toc_section_display": "block",
   "toc_window_display": false
  }
 },
 "nbformat": 4,
 "nbformat_minor": 2
}
