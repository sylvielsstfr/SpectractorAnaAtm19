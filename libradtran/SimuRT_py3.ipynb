{
 "cells": [
  {
   "cell_type": "markdown",
   "metadata": {},
   "source": [
    "# Example if call LibRadTran from the notebook\n",
    "=======================================================================\n",
    "\n",
    "- Sylvie Dagoret-Campagne\n",
    "- update 31 May 2019\n",
    "\n",
    "\n",
    "\n",
    "Simple test to call on-line libradtran to check if it is working"
   ]
  },
  {
   "cell_type": "code",
   "execution_count": 9,
   "metadata": {},
   "outputs": [
    {
     "name": "stdout",
     "output_type": "stream",
     "text": [
      "/Users/dagoret/MacOSX/External/libRadtran/libRadtran-2.0.1/\n",
      "The autoreload extension is already loaded. To reload it, use:\n",
      "  %reload_ext autoreload\n"
     ]
    }
   ],
   "source": [
    "%load_ext autoreload\n",
    "%autoreload 2"
   ]
  },
  {
   "cell_type": "code",
   "execution_count": 10,
   "metadata": {},
   "outputs": [],
   "source": [
    "import matplotlib.pyplot as plt\n",
    "%matplotlib inline\n",
    "import sys\n",
    "import os"
   ]
  },
  {
   "cell_type": "code",
   "execution_count": 11,
   "metadata": {},
   "outputs": [],
   "source": [
    "import matplotlib.pyplot as plt\n",
    "import matplotlib.colors as colors\n",
    "import matplotlib.cm as cmx"
   ]
  },
  {
   "cell_type": "code",
   "execution_count": 12,
   "metadata": {},
   "outputs": [],
   "source": [
    "from scipy.interpolate import interp1d"
   ]
  },
  {
   "cell_type": "code",
   "execution_count": 13,
   "metadata": {},
   "outputs": [],
   "source": [
    "from librtsimana import *\n",
    "#from libsimulateTranspCTIOScattAbsAer3 import *\n",
    "#from libsimulateTranspPDMScattAbsAer3 import *\n",
    "from libsimulateTranspOHPScattAbsAer3 import *"
   ]
  },
  {
   "cell_type": "code",
   "execution_count": 14,
   "metadata": {},
   "outputs": [
    {
     "data": {
      "text/plain": [
       "'/Users/dagoret/MacOSX/External/libRadtran/libRadtran-2.0.1'"
      ]
     },
     "execution_count": 14,
     "metadata": {},
     "output_type": "execute_result"
    }
   ],
   "source": [
    "os.getenv('LIBRADTRANDIR')"
   ]
  },
  {
   "cell_type": "code",
   "execution_count": 15,
   "metadata": {},
   "outputs": [
    {
     "name": "stdout",
     "output_type": "stream",
     "text": [
      "The autoreload extension is already loaded. To reload it, use:\n",
      "  %reload_ext autoreload\n"
     ]
    }
   ],
   "source": [
    "%load_ext autoreload\n",
    "%autoreload 2"
   ]
  },
  {
   "cell_type": "code",
   "execution_count": 16,
   "metadata": {},
   "outputs": [
    {
     "name": "stderr",
     "output_type": "stream",
     "text": [
      "/Users/dagoret/anaconda3/lib/python3.7/site-packages/ipykernel_launcher.py:1: DeprecationWarning: object of type <class 'float'> cannot be safely interpreted as an integer.\n",
      "  \"\"\"Entry point for launching an IPython kernel.\n"
     ]
    }
   ],
   "source": [
    "airmasses=np.linspace(1.,2.,20.)\n",
    "pressure = 712\n",
    "pwv=4.0\n",
    "aer=0\n",
    "ozone=300."
   ]
  },
  {
   "cell_type": "code",
   "execution_count": 17,
   "metadata": {},
   "outputs": [],
   "source": [
    "NBOBS=len(airmasses)"
   ]
  },
  {
   "cell_type": "code",
   "execution_count": 18,
   "metadata": {},
   "outputs": [],
   "source": [
    "jet = plt.get_cmap('jet')\n",
    "cNorm = colors.Normalize(vmin=0, vmax=NBOBS)\n",
    "scalarMap = cmx.ScalarMappable(norm=cNorm, cmap=jet)\n",
    "all_colors = scalarMap.to_rgba(np.arange( NBOBS), alpha=1)"
   ]
  },
  {
   "cell_type": "code",
   "execution_count": 19,
   "metadata": {},
   "outputs": [],
   "source": [
    "all_transmission=np.zeros((NBWL,NBOBS))"
   ]
  },
  {
   "cell_type": "code",
   "execution_count": 20,
   "metadata": {},
   "outputs": [
    {
     "name": "stdout",
     "output_type": "stream",
     "text": [
      "--------------------------------------------\n",
      " 1) airmass =  1.0\n",
      " 2) pwv =  4.0\n",
      " 3) oz =  300.0\n",
      " 4) pressure  =  712\n",
      " 5) atmospheric profile =  us\n",
      " 6) interaction processes =  sa\n",
      "--------------------------------------------\n",
      "Running uvspec with input file:  simulations/RT/2.0.1/PDM/pp/us/sa/rt/in/RT_PDM_pp_us_sa_rt_z10_wv40_oz30.INP\n",
      "Output to file                :  simulations/RT/2.0.1/PDM/pp/us/sa/rt/out/RT_PDM_pp_us_sa_rt_z10_wv40_oz30.OUT\n",
      "uvspec cmd:  /Users/dagoret/MacOSX/External/libRadtran/libRadtran-2.0.1/bin/uvspec  < simulations/RT/2.0.1/PDM/pp/us/sa/rt/in/RT_PDM_pp_us_sa_rt_z10_wv40_oz30.INP > simulations/RT/2.0.1/PDM/pp/us/sa/rt/out/RT_PDM_pp_us_sa_rt_z10_wv40_oz30.OUT\n",
      "--------------------------------------------\n",
      " 1) airmass =  1.0526315789473684\n",
      " 2) pwv =  4.0\n",
      " 3) oz =  300.0\n",
      " 4) pressure  =  712\n",
      " 5) atmospheric profile =  us\n",
      " 6) interaction processes =  sa\n",
      "--------------------------------------------\n",
      "Running uvspec with input file:  simulations/RT/2.0.1/PDM/pp/us/sa/rt/in/RT_PDM_pp_us_sa_rt_z10_wv40_oz30.INP\n",
      "Output to file                :  simulations/RT/2.0.1/PDM/pp/us/sa/rt/out/RT_PDM_pp_us_sa_rt_z10_wv40_oz30.OUT\n",
      "uvspec cmd:  /Users/dagoret/MacOSX/External/libRadtran/libRadtran-2.0.1/bin/uvspec  < simulations/RT/2.0.1/PDM/pp/us/sa/rt/in/RT_PDM_pp_us_sa_rt_z10_wv40_oz30.INP > simulations/RT/2.0.1/PDM/pp/us/sa/rt/out/RT_PDM_pp_us_sa_rt_z10_wv40_oz30.OUT\n",
      "--------------------------------------------\n",
      " 1) airmass =  1.1052631578947367\n",
      " 2) pwv =  4.0\n",
      " 3) oz =  300.0\n",
      " 4) pressure  =  712\n",
      " 5) atmospheric profile =  us\n",
      " 6) interaction processes =  sa\n",
      "--------------------------------------------\n",
      "Running uvspec with input file:  simulations/RT/2.0.1/PDM/pp/us/sa/rt/in/RT_PDM_pp_us_sa_rt_z11_wv40_oz30.INP\n",
      "Output to file                :  simulations/RT/2.0.1/PDM/pp/us/sa/rt/out/RT_PDM_pp_us_sa_rt_z11_wv40_oz30.OUT\n",
      "uvspec cmd:  /Users/dagoret/MacOSX/External/libRadtran/libRadtran-2.0.1/bin/uvspec  < simulations/RT/2.0.1/PDM/pp/us/sa/rt/in/RT_PDM_pp_us_sa_rt_z11_wv40_oz30.INP > simulations/RT/2.0.1/PDM/pp/us/sa/rt/out/RT_PDM_pp_us_sa_rt_z11_wv40_oz30.OUT\n",
      "--------------------------------------------\n",
      " 1) airmass =  1.1578947368421053\n",
      " 2) pwv =  4.0\n",
      " 3) oz =  300.0\n",
      " 4) pressure  =  712\n",
      " 5) atmospheric profile =  us\n",
      " 6) interaction processes =  sa\n",
      "--------------------------------------------\n",
      "Running uvspec with input file:  simulations/RT/2.0.1/PDM/pp/us/sa/rt/in/RT_PDM_pp_us_sa_rt_z11_wv40_oz30.INP\n",
      "Output to file                :  simulations/RT/2.0.1/PDM/pp/us/sa/rt/out/RT_PDM_pp_us_sa_rt_z11_wv40_oz30.OUT\n",
      "uvspec cmd:  /Users/dagoret/MacOSX/External/libRadtran/libRadtran-2.0.1/bin/uvspec  < simulations/RT/2.0.1/PDM/pp/us/sa/rt/in/RT_PDM_pp_us_sa_rt_z11_wv40_oz30.INP > simulations/RT/2.0.1/PDM/pp/us/sa/rt/out/RT_PDM_pp_us_sa_rt_z11_wv40_oz30.OUT\n",
      "--------------------------------------------\n",
      " 1) airmass =  1.2105263157894737\n",
      " 2) pwv =  4.0\n",
      " 3) oz =  300.0\n",
      " 4) pressure  =  712\n",
      " 5) atmospheric profile =  us\n",
      " 6) interaction processes =  sa\n",
      "--------------------------------------------\n",
      "Running uvspec with input file:  simulations/RT/2.0.1/PDM/pp/us/sa/rt/in/RT_PDM_pp_us_sa_rt_z12_wv40_oz30.INP\n",
      "Output to file                :  simulations/RT/2.0.1/PDM/pp/us/sa/rt/out/RT_PDM_pp_us_sa_rt_z12_wv40_oz30.OUT\n",
      "uvspec cmd:  /Users/dagoret/MacOSX/External/libRadtran/libRadtran-2.0.1/bin/uvspec  < simulations/RT/2.0.1/PDM/pp/us/sa/rt/in/RT_PDM_pp_us_sa_rt_z12_wv40_oz30.INP > simulations/RT/2.0.1/PDM/pp/us/sa/rt/out/RT_PDM_pp_us_sa_rt_z12_wv40_oz30.OUT\n",
      "--------------------------------------------\n",
      " 1) airmass =  1.263157894736842\n",
      " 2) pwv =  4.0\n",
      " 3) oz =  300.0\n",
      " 4) pressure  =  712\n",
      " 5) atmospheric profile =  us\n",
      " 6) interaction processes =  sa\n",
      "--------------------------------------------\n",
      "Running uvspec with input file:  simulations/RT/2.0.1/PDM/pp/us/sa/rt/in/RT_PDM_pp_us_sa_rt_z12_wv40_oz30.INP\n",
      "Output to file                :  simulations/RT/2.0.1/PDM/pp/us/sa/rt/out/RT_PDM_pp_us_sa_rt_z12_wv40_oz30.OUT\n",
      "uvspec cmd:  /Users/dagoret/MacOSX/External/libRadtran/libRadtran-2.0.1/bin/uvspec  < simulations/RT/2.0.1/PDM/pp/us/sa/rt/in/RT_PDM_pp_us_sa_rt_z12_wv40_oz30.INP > simulations/RT/2.0.1/PDM/pp/us/sa/rt/out/RT_PDM_pp_us_sa_rt_z12_wv40_oz30.OUT\n",
      "--------------------------------------------\n",
      " 1) airmass =  1.3157894736842106\n",
      " 2) pwv =  4.0\n",
      " 3) oz =  300.0\n",
      " 4) pressure  =  712\n",
      " 5) atmospheric profile =  us\n",
      " 6) interaction processes =  sa\n",
      "--------------------------------------------\n",
      "Running uvspec with input file:  simulations/RT/2.0.1/PDM/pp/us/sa/rt/in/RT_PDM_pp_us_sa_rt_z13_wv40_oz30.INP\n",
      "Output to file                :  simulations/RT/2.0.1/PDM/pp/us/sa/rt/out/RT_PDM_pp_us_sa_rt_z13_wv40_oz30.OUT\n",
      "uvspec cmd:  /Users/dagoret/MacOSX/External/libRadtran/libRadtran-2.0.1/bin/uvspec  < simulations/RT/2.0.1/PDM/pp/us/sa/rt/in/RT_PDM_pp_us_sa_rt_z13_wv40_oz30.INP > simulations/RT/2.0.1/PDM/pp/us/sa/rt/out/RT_PDM_pp_us_sa_rt_z13_wv40_oz30.OUT\n",
      "--------------------------------------------\n",
      " 1) airmass =  1.368421052631579\n",
      " 2) pwv =  4.0\n",
      " 3) oz =  300.0\n",
      " 4) pressure  =  712\n",
      " 5) atmospheric profile =  us\n",
      " 6) interaction processes =  sa\n",
      "--------------------------------------------\n",
      "Running uvspec with input file:  simulations/RT/2.0.1/PDM/pp/us/sa/rt/in/RT_PDM_pp_us_sa_rt_z13_wv40_oz30.INP\n",
      "Output to file                :  simulations/RT/2.0.1/PDM/pp/us/sa/rt/out/RT_PDM_pp_us_sa_rt_z13_wv40_oz30.OUT\n",
      "uvspec cmd:  /Users/dagoret/MacOSX/External/libRadtran/libRadtran-2.0.1/bin/uvspec  < simulations/RT/2.0.1/PDM/pp/us/sa/rt/in/RT_PDM_pp_us_sa_rt_z13_wv40_oz30.INP > simulations/RT/2.0.1/PDM/pp/us/sa/rt/out/RT_PDM_pp_us_sa_rt_z13_wv40_oz30.OUT\n",
      "--------------------------------------------\n",
      " 1) airmass =  1.4210526315789473\n",
      " 2) pwv =  4.0\n",
      " 3) oz =  300.0\n",
      " 4) pressure  =  712\n",
      " 5) atmospheric profile =  us\n",
      " 6) interaction processes =  sa\n",
      "--------------------------------------------\n",
      "Running uvspec with input file:  simulations/RT/2.0.1/PDM/pp/us/sa/rt/in/RT_PDM_pp_us_sa_rt_z14_wv40_oz30.INP\n",
      "Output to file                :  simulations/RT/2.0.1/PDM/pp/us/sa/rt/out/RT_PDM_pp_us_sa_rt_z14_wv40_oz30.OUT\n",
      "uvspec cmd:  /Users/dagoret/MacOSX/External/libRadtran/libRadtran-2.0.1/bin/uvspec  < simulations/RT/2.0.1/PDM/pp/us/sa/rt/in/RT_PDM_pp_us_sa_rt_z14_wv40_oz30.INP > simulations/RT/2.0.1/PDM/pp/us/sa/rt/out/RT_PDM_pp_us_sa_rt_z14_wv40_oz30.OUT\n",
      "--------------------------------------------\n",
      " 1) airmass =  1.4736842105263157\n",
      " 2) pwv =  4.0\n",
      " 3) oz =  300.0\n",
      " 4) pressure  =  712\n",
      " 5) atmospheric profile =  us\n",
      " 6) interaction processes =  sa\n",
      "--------------------------------------------\n",
      "Running uvspec with input file:  simulations/RT/2.0.1/PDM/pp/us/sa/rt/in/RT_PDM_pp_us_sa_rt_z14_wv40_oz30.INP\n",
      "Output to file                :  simulations/RT/2.0.1/PDM/pp/us/sa/rt/out/RT_PDM_pp_us_sa_rt_z14_wv40_oz30.OUT\n",
      "uvspec cmd:  /Users/dagoret/MacOSX/External/libRadtran/libRadtran-2.0.1/bin/uvspec  < simulations/RT/2.0.1/PDM/pp/us/sa/rt/in/RT_PDM_pp_us_sa_rt_z14_wv40_oz30.INP > simulations/RT/2.0.1/PDM/pp/us/sa/rt/out/RT_PDM_pp_us_sa_rt_z14_wv40_oz30.OUT\n",
      "--------------------------------------------\n",
      " 1) airmass =  1.526315789473684\n",
      " 2) pwv =  4.0\n",
      " 3) oz =  300.0\n",
      " 4) pressure  =  712\n",
      " 5) atmospheric profile =  us\n",
      " 6) interaction processes =  sa\n",
      "--------------------------------------------\n",
      "Running uvspec with input file:  simulations/RT/2.0.1/PDM/pp/us/sa/rt/in/RT_PDM_pp_us_sa_rt_z15_wv40_oz30.INP\n",
      "Output to file                :  simulations/RT/2.0.1/PDM/pp/us/sa/rt/out/RT_PDM_pp_us_sa_rt_z15_wv40_oz30.OUT\n",
      "uvspec cmd:  /Users/dagoret/MacOSX/External/libRadtran/libRadtran-2.0.1/bin/uvspec  < simulations/RT/2.0.1/PDM/pp/us/sa/rt/in/RT_PDM_pp_us_sa_rt_z15_wv40_oz30.INP > simulations/RT/2.0.1/PDM/pp/us/sa/rt/out/RT_PDM_pp_us_sa_rt_z15_wv40_oz30.OUT\n",
      "--------------------------------------------\n",
      " 1) airmass =  1.5789473684210527\n",
      " 2) pwv =  4.0\n",
      " 3) oz =  300.0\n",
      " 4) pressure  =  712\n",
      " 5) atmospheric profile =  us\n",
      " 6) interaction processes =  sa\n",
      "--------------------------------------------\n",
      "Running uvspec with input file:  simulations/RT/2.0.1/PDM/pp/us/sa/rt/in/RT_PDM_pp_us_sa_rt_z15_wv40_oz30.INP\n",
      "Output to file                :  simulations/RT/2.0.1/PDM/pp/us/sa/rt/out/RT_PDM_pp_us_sa_rt_z15_wv40_oz30.OUT\n",
      "uvspec cmd:  /Users/dagoret/MacOSX/External/libRadtran/libRadtran-2.0.1/bin/uvspec  < simulations/RT/2.0.1/PDM/pp/us/sa/rt/in/RT_PDM_pp_us_sa_rt_z15_wv40_oz30.INP > simulations/RT/2.0.1/PDM/pp/us/sa/rt/out/RT_PDM_pp_us_sa_rt_z15_wv40_oz30.OUT\n"
     ]
    },
    {
     "name": "stdout",
     "output_type": "stream",
     "text": [
      "--------------------------------------------\n",
      " 1) airmass =  1.631578947368421\n",
      " 2) pwv =  4.0\n",
      " 3) oz =  300.0\n",
      " 4) pressure  =  712\n",
      " 5) atmospheric profile =  us\n",
      " 6) interaction processes =  sa\n",
      "--------------------------------------------\n",
      "Running uvspec with input file:  simulations/RT/2.0.1/PDM/pp/us/sa/rt/in/RT_PDM_pp_us_sa_rt_z16_wv40_oz30.INP\n",
      "Output to file                :  simulations/RT/2.0.1/PDM/pp/us/sa/rt/out/RT_PDM_pp_us_sa_rt_z16_wv40_oz30.OUT\n",
      "uvspec cmd:  /Users/dagoret/MacOSX/External/libRadtran/libRadtran-2.0.1/bin/uvspec  < simulations/RT/2.0.1/PDM/pp/us/sa/rt/in/RT_PDM_pp_us_sa_rt_z16_wv40_oz30.INP > simulations/RT/2.0.1/PDM/pp/us/sa/rt/out/RT_PDM_pp_us_sa_rt_z16_wv40_oz30.OUT\n",
      "--------------------------------------------\n",
      " 1) airmass =  1.6842105263157894\n",
      " 2) pwv =  4.0\n",
      " 3) oz =  300.0\n",
      " 4) pressure  =  712\n",
      " 5) atmospheric profile =  us\n",
      " 6) interaction processes =  sa\n",
      "--------------------------------------------\n",
      "Running uvspec with input file:  simulations/RT/2.0.1/PDM/pp/us/sa/rt/in/RT_PDM_pp_us_sa_rt_z16_wv40_oz30.INP\n",
      "Output to file                :  simulations/RT/2.0.1/PDM/pp/us/sa/rt/out/RT_PDM_pp_us_sa_rt_z16_wv40_oz30.OUT\n",
      "uvspec cmd:  /Users/dagoret/MacOSX/External/libRadtran/libRadtran-2.0.1/bin/uvspec  < simulations/RT/2.0.1/PDM/pp/us/sa/rt/in/RT_PDM_pp_us_sa_rt_z16_wv40_oz30.INP > simulations/RT/2.0.1/PDM/pp/us/sa/rt/out/RT_PDM_pp_us_sa_rt_z16_wv40_oz30.OUT\n",
      "--------------------------------------------\n",
      " 1) airmass =  1.736842105263158\n",
      " 2) pwv =  4.0\n",
      " 3) oz =  300.0\n",
      " 4) pressure  =  712\n",
      " 5) atmospheric profile =  us\n",
      " 6) interaction processes =  sa\n",
      "--------------------------------------------\n",
      "Running uvspec with input file:  simulations/RT/2.0.1/PDM/pp/us/sa/rt/in/RT_PDM_pp_us_sa_rt_z17_wv40_oz30.INP\n",
      "Output to file                :  simulations/RT/2.0.1/PDM/pp/us/sa/rt/out/RT_PDM_pp_us_sa_rt_z17_wv40_oz30.OUT\n",
      "uvspec cmd:  /Users/dagoret/MacOSX/External/libRadtran/libRadtran-2.0.1/bin/uvspec  < simulations/RT/2.0.1/PDM/pp/us/sa/rt/in/RT_PDM_pp_us_sa_rt_z17_wv40_oz30.INP > simulations/RT/2.0.1/PDM/pp/us/sa/rt/out/RT_PDM_pp_us_sa_rt_z17_wv40_oz30.OUT\n",
      "--------------------------------------------\n",
      " 1) airmass =  1.7894736842105263\n",
      " 2) pwv =  4.0\n",
      " 3) oz =  300.0\n",
      " 4) pressure  =  712\n",
      " 5) atmospheric profile =  us\n",
      " 6) interaction processes =  sa\n",
      "--------------------------------------------\n",
      "Running uvspec with input file:  simulations/RT/2.0.1/PDM/pp/us/sa/rt/in/RT_PDM_pp_us_sa_rt_z17_wv40_oz30.INP\n",
      "Output to file                :  simulations/RT/2.0.1/PDM/pp/us/sa/rt/out/RT_PDM_pp_us_sa_rt_z17_wv40_oz30.OUT\n",
      "uvspec cmd:  /Users/dagoret/MacOSX/External/libRadtran/libRadtran-2.0.1/bin/uvspec  < simulations/RT/2.0.1/PDM/pp/us/sa/rt/in/RT_PDM_pp_us_sa_rt_z17_wv40_oz30.INP > simulations/RT/2.0.1/PDM/pp/us/sa/rt/out/RT_PDM_pp_us_sa_rt_z17_wv40_oz30.OUT\n",
      "--------------------------------------------\n",
      " 1) airmass =  1.8421052631578947\n",
      " 2) pwv =  4.0\n",
      " 3) oz =  300.0\n",
      " 4) pressure  =  712\n",
      " 5) atmospheric profile =  us\n",
      " 6) interaction processes =  sa\n",
      "--------------------------------------------\n",
      "Running uvspec with input file:  simulations/RT/2.0.1/PDM/pp/us/sa/rt/in/RT_PDM_pp_us_sa_rt_z18_wv40_oz30.INP\n",
      "Output to file                :  simulations/RT/2.0.1/PDM/pp/us/sa/rt/out/RT_PDM_pp_us_sa_rt_z18_wv40_oz30.OUT\n",
      "uvspec cmd:  /Users/dagoret/MacOSX/External/libRadtran/libRadtran-2.0.1/bin/uvspec  < simulations/RT/2.0.1/PDM/pp/us/sa/rt/in/RT_PDM_pp_us_sa_rt_z18_wv40_oz30.INP > simulations/RT/2.0.1/PDM/pp/us/sa/rt/out/RT_PDM_pp_us_sa_rt_z18_wv40_oz30.OUT\n",
      "--------------------------------------------\n",
      " 1) airmass =  1.894736842105263\n",
      " 2) pwv =  4.0\n",
      " 3) oz =  300.0\n",
      " 4) pressure  =  712\n",
      " 5) atmospheric profile =  us\n",
      " 6) interaction processes =  sa\n",
      "--------------------------------------------\n",
      "Running uvspec with input file:  simulations/RT/2.0.1/PDM/pp/us/sa/rt/in/RT_PDM_pp_us_sa_rt_z18_wv40_oz30.INP\n",
      "Output to file                :  simulations/RT/2.0.1/PDM/pp/us/sa/rt/out/RT_PDM_pp_us_sa_rt_z18_wv40_oz30.OUT\n",
      "uvspec cmd:  /Users/dagoret/MacOSX/External/libRadtran/libRadtran-2.0.1/bin/uvspec  < simulations/RT/2.0.1/PDM/pp/us/sa/rt/in/RT_PDM_pp_us_sa_rt_z18_wv40_oz30.INP > simulations/RT/2.0.1/PDM/pp/us/sa/rt/out/RT_PDM_pp_us_sa_rt_z18_wv40_oz30.OUT\n",
      "--------------------------------------------\n",
      " 1) airmass =  1.9473684210526314\n",
      " 2) pwv =  4.0\n",
      " 3) oz =  300.0\n",
      " 4) pressure  =  712\n",
      " 5) atmospheric profile =  us\n",
      " 6) interaction processes =  sa\n",
      "--------------------------------------------\n",
      "Running uvspec with input file:  simulations/RT/2.0.1/PDM/pp/us/sa/rt/in/RT_PDM_pp_us_sa_rt_z19_wv40_oz30.INP\n",
      "Output to file                :  simulations/RT/2.0.1/PDM/pp/us/sa/rt/out/RT_PDM_pp_us_sa_rt_z19_wv40_oz30.OUT\n",
      "uvspec cmd:  /Users/dagoret/MacOSX/External/libRadtran/libRadtran-2.0.1/bin/uvspec  < simulations/RT/2.0.1/PDM/pp/us/sa/rt/in/RT_PDM_pp_us_sa_rt_z19_wv40_oz30.INP > simulations/RT/2.0.1/PDM/pp/us/sa/rt/out/RT_PDM_pp_us_sa_rt_z19_wv40_oz30.OUT\n",
      "--------------------------------------------\n",
      " 1) airmass =  2.0\n",
      " 2) pwv =  4.0\n",
      " 3) oz =  300.0\n",
      " 4) pressure  =  712\n",
      " 5) atmospheric profile =  us\n",
      " 6) interaction processes =  sa\n",
      "--------------------------------------------\n",
      "Running uvspec with input file:  simulations/RT/2.0.1/PDM/pp/us/sa/rt/in/RT_PDM_pp_us_sa_rt_z20_wv40_oz30.INP\n",
      "Output to file                :  simulations/RT/2.0.1/PDM/pp/us/sa/rt/out/RT_PDM_pp_us_sa_rt_z20_wv40_oz30.OUT\n",
      "uvspec cmd:  /Users/dagoret/MacOSX/External/libRadtran/libRadtran-2.0.1/bin/uvspec  < simulations/RT/2.0.1/PDM/pp/us/sa/rt/in/RT_PDM_pp_us_sa_rt_z20_wv40_oz30.INP > simulations/RT/2.0.1/PDM/pp/us/sa/rt/out/RT_PDM_pp_us_sa_rt_z20_wv40_oz30.OUT\n"
     ]
    }
   ],
   "source": [
    "idx=0\n",
    "for am in airmasses:\n",
    "    path,thefile=ProcessSimulation(am,pwv,ozone,pressure,prof_str='us',proc_str='sa')\n",
    "    data = np.loadtxt(os.path.join(path,thefile))\n",
    "    wl = data[:,0]\n",
    "    atm = data[:,1]  \n",
    "    func=interp1d(wl,atm,kind='linear') \n",
    "    transm=func(WL)\n",
    "    all_transmission[:,idx]=transm\n",
    "    idx+=1"
   ]
  },
  {
   "cell_type": "code",
   "execution_count": 21,
   "metadata": {},
   "outputs": [
    {
     "name": "stdout",
     "output_type": "stream",
     "text": [
      "ls: simulation/: No such file or directory\r\n"
     ]
    }
   ],
   "source": [
    "ls simulation/"
   ]
  },
  {
   "cell_type": "code",
   "execution_count": 22,
   "metadata": {},
   "outputs": [
    {
     "data": {
      "image/png": "[encoded data removed]",
      "text/plain": [
       "<Figure size 432x288 with 1 Axes>"
      ]
     },
     "metadata": {
      "needs_background": "light"
     },
     "output_type": "display_data"
    }
   ],
   "source": [
    "idx=0\n",
    "for am in airmasses:\n",
    "    colorVal = scalarMap.to_rgba(idx, alpha=1)\n",
    "    plt.plot(WL,2.5*np.log10(all_transmission[:,idx]),color=colorVal)\n",
    "    idx+=1\n",
    "plt.xlabel(\"$\\lambda$ (nm)\")\n",
    "plt.ylabel(\"Atmospheric attenuation   (mag)\")\n",
    "plt.title(\"Atmospheric attenuation\")\n",
    "plt.ylim(-1.,0.)\n",
    "plt.grid()"
   ]
  },
  {
   "cell_type": "code",
   "execution_count": 23,
   "metadata": {},
   "outputs": [
    {
     "ename": "AssertionError",
     "evalue": "",
     "output_type": "error",
     "traceback": [
      "\u001b[0;31m---------------------------------------------------------------------------\u001b[0m",
      "\u001b[0;31mAssertionError\u001b[0m                            Traceback (most recent call last)",
      "\u001b[0;32m<ipython-input-23-a871fdc9ebee>\u001b[0m in \u001b[0;36m<module>\u001b[0;34m\u001b[0m\n\u001b[0;32m----> 1\u001b[0;31m \u001b[0;32massert\u001b[0m \u001b[0;32mFalse\u001b[0m\u001b[0;34m\u001b[0m\u001b[0;34m\u001b[0m\u001b[0m\n\u001b[0m",
      "\u001b[0;31mAssertionError\u001b[0m: "
     ]
    }
   ],
   "source": [
    "assert False"
   ]
  },
  {
   "cell_type": "code",
   "execution_count": 24,
   "metadata": {},
   "outputs": [],
   "source": [
    "thetitle='Atmospheric attenuation 400-600 nm'"
   ]
  },
  {
   "cell_type": "code",
   "execution_count": 25,
   "metadata": {},
   "outputs": [
    {
     "ename": "TypeError",
     "evalue": "slice indices must be integers or None or have an __index__ method",
     "output_type": "error",
     "traceback": [
      "\u001b[0;31m---------------------------------------------------------------------------\u001b[0m",
      "\u001b[0;31mTypeError\u001b[0m                                 Traceback (most recent call last)",
      "\u001b[0;32m<ipython-input-25-e5321ed8341c>\u001b[0m in \u001b[0;36m<module>\u001b[0;34m\u001b[0m\n\u001b[0;32m----> 1\u001b[0;31m \u001b[0mx1\u001b[0m\u001b[0;34m,\u001b[0m\u001b[0my1\u001b[0m\u001b[0;34m,\u001b[0m\u001b[0merr1\u001b[0m\u001b[0;34m=\u001b[0m\u001b[0mFitAttenuationSmoothBin\u001b[0m\u001b[0;34m(\u001b[0m\u001b[0mairmasses\u001b[0m\u001b[0;34m,\u001b[0m\u001b[0mall_transmission\u001b[0m\u001b[0;34m,\u001b[0m\u001b[0mthetitle\u001b[0m\u001b[0;34m,\u001b[0m\u001b[0mZMIN\u001b[0m\u001b[0;34m=\u001b[0m\u001b[0;36m400.\u001b[0m\u001b[0;34m,\u001b[0m\u001b[0mZMAX\u001b[0m\u001b[0;34m=\u001b[0m\u001b[0;36m600.\u001b[0m\u001b[0;34m,\u001b[0m\u001b[0mWwidth\u001b[0m\u001b[0;34m=\u001b[0m\u001b[0;36m11\u001b[0m\u001b[0;34m,\u001b[0m\u001b[0mBwidth\u001b[0m\u001b[0;34m=\u001b[0m\u001b[0;36m10\u001b[0m\u001b[0;34m,\u001b[0m\u001b[0mMag\u001b[0m\u001b[0;34m=\u001b[0m\u001b[0;32mTrue\u001b[0m\u001b[0;34m)\u001b[0m\u001b[0;34m\u001b[0m\u001b[0;34m\u001b[0m\u001b[0m\n\u001b[0m",
      "\u001b[0;32m~/MacOSX/GitHub/LSST/SpectractorAnaAtm19/libradtran/librtsimana.py\u001b[0m in \u001b[0;36mFitAttenuationSmoothBin\u001b[0;34m(airmasses, transmissions, thetitle, ZMIN, ZMAX, Wwidth, Bwidth, Mag, showFlag)\u001b[0m\n\u001b[1;32m    201\u001b[0m         \u001b[0mtransm\u001b[0m\u001b[0;34m=\u001b[0m\u001b[0mtransmissions\u001b[0m\u001b[0;34m[\u001b[0m\u001b[0;34m:\u001b[0m\u001b[0;34m,\u001b[0m\u001b[0midx_obs\u001b[0m\u001b[0;34m]\u001b[0m\u001b[0;34m\u001b[0m\u001b[0;34m\u001b[0m\u001b[0m\n\u001b[1;32m    202\u001b[0m \u001b[0;34m\u001b[0m\u001b[0m\n\u001b[0;32m--> 203\u001b[0;31m         \u001b[0mtr_smooth\u001b[0m\u001b[0;34m=\u001b[0m\u001b[0msmooth\u001b[0m\u001b[0;34m(\u001b[0m\u001b[0mtransm\u001b[0m\u001b[0;34m,\u001b[0m\u001b[0mwindow_len\u001b[0m\u001b[0;34m=\u001b[0m\u001b[0mWwidth\u001b[0m\u001b[0;34m)\u001b[0m\u001b[0;34m\u001b[0m\u001b[0;34m\u001b[0m\u001b[0m\n\u001b[0m\u001b[1;32m    204\u001b[0m \u001b[0;34m\u001b[0m\u001b[0m\n\u001b[1;32m    205\u001b[0m \u001b[0;34m\u001b[0m\u001b[0m\n",
      "\u001b[0;32m~/MacOSX/GitHub/LSST/SpectractorAnaAtm19/libradtran/librtsimana.py\u001b[0m in \u001b[0;36msmooth\u001b[0;34m(x, window_len, window)\u001b[0m\n\u001b[1;32m    101\u001b[0m     \u001b[0;31m#return y\u001b[0m\u001b[0;34m\u001b[0m\u001b[0;34m\u001b[0m\u001b[0;34m\u001b[0m\u001b[0m\n\u001b[1;32m    102\u001b[0m     \u001b[0;32mif\u001b[0m \u001b[0mlen\u001b[0m\u001b[0;34m(\u001b[0m\u001b[0mx\u001b[0m\u001b[0;34m)\u001b[0m\u001b[0;34m%\u001b[0m\u001b[0;36m2\u001b[0m\u001b[0;34m==\u001b[0m\u001b[0;36m0\u001b[0m\u001b[0;34m:\u001b[0m \u001b[0;31m# even case\u001b[0m\u001b[0;34m\u001b[0m\u001b[0;34m\u001b[0m\u001b[0m\n\u001b[0;32m--> 103\u001b[0;31m         \u001b[0;32mreturn\u001b[0m \u001b[0my\u001b[0m\u001b[0;34m[\u001b[0m\u001b[0;34m(\u001b[0m\u001b[0mwindow_len\u001b[0m\u001b[0;34m/\u001b[0m\u001b[0;36m2\u001b[0m\u001b[0;34m)\u001b[0m\u001b[0;34m:\u001b[0m\u001b[0;34m-\u001b[0m\u001b[0;34m(\u001b[0m\u001b[0mwindow_len\u001b[0m\u001b[0;34m/\u001b[0m\u001b[0;36m2\u001b[0m\u001b[0;34m)\u001b[0m\u001b[0;34m]\u001b[0m\u001b[0;34m\u001b[0m\u001b[0;34m\u001b[0m\u001b[0m\n\u001b[0m\u001b[1;32m    104\u001b[0m     \u001b[0;32melse\u001b[0m\u001b[0;34m:\u001b[0m           \u001b[0;31m#odd case\u001b[0m\u001b[0;34m\u001b[0m\u001b[0;34m\u001b[0m\u001b[0m\n\u001b[1;32m    105\u001b[0m         \u001b[0;32mreturn\u001b[0m \u001b[0my\u001b[0m\u001b[0;34m[\u001b[0m\u001b[0;34m(\u001b[0m\u001b[0mwindow_len\u001b[0m\u001b[0;34m/\u001b[0m\u001b[0;36m2\u001b[0m\u001b[0;34m-\u001b[0m\u001b[0;36m1\u001b[0m\u001b[0;34m)\u001b[0m\u001b[0;34m:\u001b[0m\u001b[0;34m-\u001b[0m\u001b[0;34m(\u001b[0m\u001b[0mwindow_len\u001b[0m\u001b[0;34m/\u001b[0m\u001b[0;36m2\u001b[0m\u001b[0;34m)\u001b[0m\u001b[0;34m]\u001b[0m\u001b[0;34m\u001b[0m\u001b[0;34m\u001b[0m\u001b[0m\n",
      "\u001b[0;31mTypeError\u001b[0m: slice indices must be integers or None or have an __index__ method"
     ]
    }
   ],
   "source": [
    "x1,y1,err1=FitAttenuationSmoothBin(airmasses,all_transmission,thetitle,ZMIN=400.,ZMAX=600.,Wwidth=11,Bwidth=10,Mag=True)"
   ]
  },
  {
   "cell_type": "code",
   "execution_count": null,
   "metadata": {},
   "outputs": [],
   "source": [
    "thetitle='Atmospheric attenuation 600-1000 nm'"
   ]
  },
  {
   "cell_type": "code",
   "execution_count": null,
   "metadata": {},
   "outputs": [],
   "source": [
    "x2,y2,err2=FitAttenuationSmoothBin(airmasses,all_transmission,thetitle,ZMIN=600.,ZMAX=1000.,Wwidth=11,Bwidth=10,Mag=True)"
   ]
  },
  {
   "cell_type": "code",
   "execution_count": null,
   "metadata": {},
   "outputs": [],
   "source": [
    "wl=np.concatenate((x1,x2))\n",
    "y=np.concatenate((y1,y2))\n",
    "err=np.zeros(len(y))"
   ]
  },
  {
   "cell_type": "code",
   "execution_count": null,
   "metadata": {},
   "outputs": [],
   "source": [
    "PlotOpticalThroughput(wl,y,err,\"reconstructed TOA\")"
   ]
  },
  {
   "cell_type": "markdown",
   "metadata": {},
   "source": [
    "## Save simulation"
   ]
  },
  {
   "cell_type": "code",
   "execution_count": null,
   "metadata": {},
   "outputs": [],
   "source": [
    "np.savetxt('transmission.txt',all_transmission)"
   ]
  }
 ],
 "metadata": {
  "anaconda-cloud": {},
  "kernelspec": {
   "display_name": "Python 3",
   "language": "python",
   "name": "python3"
  },
  "language_info": {
   "codemirror_mode": {
    "name": "ipython",
    "version": 3
   },
   "file_extension": ".py",
   "mimetype": "text/x-python",
   "name": "python",
   "nbconvert_exporter": "python",
   "pygments_lexer": "ipython3",
   "version": "3.7.1"
  },
  "toc": {
   "nav_menu": {
    "height": "12px",
    "width": "252px"
   },
   "number_sections": true,
   "sideBar": true,
   "skip_h1_title": false,
   "toc_cell": false,
   "toc_position": {},
   "toc_section_display": "block",
   "toc_window_display": false
  }
 },
 "nbformat": 4,
 "nbformat_minor": 2
}
