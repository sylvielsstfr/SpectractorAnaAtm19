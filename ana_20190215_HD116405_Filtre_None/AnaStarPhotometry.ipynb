{
 "cells": [
  {
   "cell_type": "code",
   "execution_count": 2,
   "metadata": {},
   "outputs": [],
   "source": [
    "import matplotlib.pyplot as plt\n",
    "%matplotlib inline\n"
   ]
  },
  {
   "cell_type": "code",
   "execution_count": 5,
   "metadata": {},
   "outputs": [],
   "source": [
    "from astropy.table import Table,QTable"
   ]
  },
  {
   "cell_type": "code",
   "execution_count": 4,
   "metadata": {},
   "outputs": [
    {
     "name": "stdout",
     "output_type": "stream",
     "text": [
      "AnaStarPhotometry.ipynb            processGreyAttenuation_old.py\r\n",
      "ComparePhotometry.ipynb            processSkyBackground.py\r\n",
      "MakeAstropyTable.ipynb             processStarPhotometry.ecsv\r\n",
      "MakePhotometry.ipynb               processStarPhotometry.py\r\n",
      "README.md                          qualitycut_amplitudes.py\r\n",
      "RelativAtten.ipynb                 qualitycut_fwhm.py\r\n",
      "StarElevation.ipynb                qualitycut_fwhm_341.py\r\n",
      "bad_obs_23mai19.txt                studyGreyAttenuation.py\r\n",
      "cineviewbadspectra.py              \u001b[34mtables\u001b[m\u001b[m\r\n",
      "cineviewbadspectra_341_342.py      testibin.py\r\n",
      "cineviewbadspectrograms.py         view1Dspectra.py\r\n",
      "cineviewspectra.py                 view1Dspectra_old.py\r\n",
      "cineviewspectra_old.py             view2Dspectra.py\r\n",
      "cineviewspectrograms.py            viewAttenuation.py\r\n",
      "convertSpectraToPandas.py          viewAttenuation400-800nm.py\r\n",
      "correctGreyAttenuation400-800nm.py viewpsf.py\r\n",
      "\u001b[34moutputtabledir\u001b[m\u001b[m                     viewpsffast.py\r\n",
      "predictRayleighAttenuation.py      viewtable.ipynb\r\n",
      "processGreyAttenuation.py\r\n"
     ]
    }
   ],
   "source": [
    "!ls"
   ]
  },
  {
   "cell_type": "code",
   "execution_count": 12,
   "metadata": {},
   "outputs": [],
   "source": [
    "t = Table.read('processStarPhotometry.ecsv', format='ascii.ecsv')"
   ]
  },
  {
   "cell_type": "code",
   "execution_count": 15,
   "metadata": {},
   "outputs": [
    {
     "data": {
      "text/html": [
       "<i>Table length=5</i>\n",
       "<table id=\"table4793716632\" class=\"table-striped table-bordered table-condensed\">\n",
       "<thead><tr><th>date</th><th>airmass</th><th>starmag</th><th>bkgmag</th><th>starmagerr</th><th>bkgmagerr</th><th>x0</th><th>y0</th><th>file</th></tr></thead>\n",
       "<thead><tr><th>object</th><th>float64</th><th>float64</th><th>float64</th><th>float64</th><th>float64</th><th>float64</th><th>float64</th><th>str72</th></tr></thead>\n",
       "<tr><td>2019-02-15T22:55:50.730</td><td>1.545960928536013</td><td>-16.09571996209033</td><td>-13.36552151796525</td><td>0.0003114148196158889</td><td>0.0010531427694586235</td><td>416.82351053763523</td><td>89.8416717038249</td><td>T1M_20190215_225550_730_HD116405_Filtre_None_bin1x1.1_red_spectrum.fits</td></tr>\n",
       "<tr><td>2019-02-15T22:56:26.007</td><td>1.5429357926934</td><td>-16.094987030179105</td><td>-13.36733463840079</td><td>0.0003115473154032512</td><td>0.0010522637908860271</td><td>417.1428966812357</td><td>86.10186965983738</td><td>T1M_20190215_225626_007_HD116405_Filtre_None_bin1x1.2_red_spectrum.fits</td></tr>\n",
       "<tr><td>2019-02-15T22:57:01.284</td><td>1.539925136628895</td><td>-16.09592430718563</td><td>-13.36999514542632</td><td>0.0003114314203119332</td><td>0.0010509753375414126</td><td>416.87375824918206</td><td>86.52363002702708</td><td>T1M_20190215_225701_284_HD116405_Filtre_None_bin1x1.3_red_spectrum.fits</td></tr>\n",
       "<tr><td>2019-02-15T22:57:36.562</td><td>1.536928795228259</td><td>-16.038727952530436</td><td>-13.344536563835137</td><td>0.0003200994898047642</td><td>0.001063369601992767</td><td>467.4269565386433</td><td>42.90195441951223</td><td>T1M_20190215_225736_562_HD116405_Filtre_None_bin1x1.4_red_spectrum.fits</td></tr>\n",
       "<tr><td>2019-02-15T22:58:11.838</td><td>1.533946942906885</td><td>-16.04278751991994</td><td>-13.32832799651773</td><td>0.00031927354369019694</td><td>0.0010713366313884422</td><td>463.93050592147927</td><td>43.06387406816335</td><td>T1M_20190215_225811_838_HD116405_Filtre_None_bin1x1.5_red_spectrum.fits</td></tr>\n",
       "</table>"
      ],
      "text/plain": [
       "<Table length=5>\n",
       "          date          ...\n",
       "         object         ...\n",
       "----------------------- ...\n",
       "2019-02-15T22:55:50.730 ...\n",
       "2019-02-15T22:56:26.007 ...\n",
       "2019-02-15T22:57:01.284 ...\n",
       "2019-02-15T22:57:36.562 ...\n",
       "2019-02-15T22:58:11.838 ..."
      ]
     },
     "execution_count": 15,
     "metadata": {},
     "output_type": "execute_result"
    }
   ],
   "source": [
    "t[:5]"
   ]
  },
  {
   "cell_type": "code",
   "execution_count": 29,
   "metadata": {},
   "outputs": [],
   "source": [
    "t[\"airmass\"].info.format = '%1.2f'  # for consistent table output\n",
    "t[\"starmag\"].info.format = '%2.3f'\n",
    "t[\"bkgmag\"].info.format = '%2.3f'\n",
    "t[\"starmagerr\"].info.format = '%1.3g'\n",
    "t[\"bkgmagerr\"].info.format = '%1.3g'\n",
    "t[\"x0\"].info.format = '%3.0f'\n",
    "t[\"y0\"].info.format = '%3.0f'"
   ]
  },
  {
   "cell_type": "code",
   "execution_count": 31,
   "metadata": {},
   "outputs": [
    {
     "data": {
      "text/html": [
       "<i>Table length=10</i>\n",
       "<table id=\"table4551407488\" class=\"table-striped table-bordered table-condensed\">\n",
       "<thead><tr><th>date</th><th>airmass</th><th>starmag</th><th>bkgmag</th><th>starmagerr</th><th>bkgmagerr</th><th>x0</th><th>y0</th><th>file</th></tr></thead>\n",
       "<thead><tr><th>object</th><th>float64</th><th>float64</th><th>float64</th><th>float64</th><th>float64</th><th>float64</th><th>float64</th><th>str72</th></tr></thead>\n",
       "<tr><td>2019-02-15T22:55:50.730</td><td>1.55</td><td>-16.096</td><td>-13.366</td><td>0.000311</td><td>0.00105</td><td>417</td><td>90</td><td>T1M_20190215_225550_730_HD116405_Filtre_None_bin1x1.1_red_spectrum.fits</td></tr>\n",
       "<tr><td>2019-02-15T22:56:26.007</td><td>1.54</td><td>-16.095</td><td>-13.367</td><td>0.000312</td><td>0.00105</td><td>417</td><td>86</td><td>T1M_20190215_225626_007_HD116405_Filtre_None_bin1x1.2_red_spectrum.fits</td></tr>\n",
       "<tr><td>2019-02-15T22:57:01.284</td><td>1.54</td><td>-16.096</td><td>-13.370</td><td>0.000311</td><td>0.00105</td><td>417</td><td>87</td><td>T1M_20190215_225701_284_HD116405_Filtre_None_bin1x1.3_red_spectrum.fits</td></tr>\n",
       "<tr><td>2019-02-15T22:57:36.562</td><td>1.54</td><td>-16.039</td><td>-13.345</td><td>0.00032</td><td>0.00106</td><td>467</td><td>43</td><td>T1M_20190215_225736_562_HD116405_Filtre_None_bin1x1.4_red_spectrum.fits</td></tr>\n",
       "<tr><td>2019-02-15T22:58:11.838</td><td>1.53</td><td>-16.043</td><td>-13.328</td><td>0.000319</td><td>0.00107</td><td>464</td><td>43</td><td>T1M_20190215_225811_838_HD116405_Filtre_None_bin1x1.5_red_spectrum.fits</td></tr>\n",
       "<tr><td>2019-02-15T22:58:47.115</td><td>1.53</td><td>-16.036</td><td>-13.346</td><td>0.000321</td><td>0.00106</td><td>463</td><td>42</td><td>T1M_20190215_225847_115_HD116405_Filtre_None_bin1x1.6_red_spectrum.fits</td></tr>\n",
       "<tr><td>2019-02-15T22:59:22.399</td><td>1.53</td><td>-16.042</td><td>-13.331</td><td>0.000319</td><td>0.00107</td><td>462</td><td>42</td><td>T1M_20190215_225922_399_HD116405_Filtre_None_bin1x1.7_red_spectrum.fits</td></tr>\n",
       "<tr><td>2019-02-15T22:59:57.677</td><td>1.53</td><td>-16.037</td><td>-13.332</td><td>0.00032</td><td>0.00107</td><td>460</td><td>38</td><td>T1M_20190215_225957_677_HD116405_Filtre_None_bin1x1.8_red_spectrum.fits</td></tr>\n",
       "<tr><td>2019-02-15T23:00:32.956</td><td>1.52</td><td>-16.034</td><td>-13.327</td><td>0.000321</td><td>0.00107</td><td>457</td><td>36</td><td>T1M_20190215_230032_956_HD116405_Filtre_None_bin1x1.9_red_spectrum.fits</td></tr>\n",
       "<tr><td>2019-02-15T23:01:08.233</td><td>1.52</td><td>-16.034</td><td>-13.351</td><td>0.000321</td><td>0.00106</td><td>456</td><td>35</td><td>T1M_20190215_230108_233_HD116405_Filtre_None_bin1x1.10_red_spectrum.fits</td></tr>\n",
       "</table>"
      ],
      "text/plain": [
       "<Table length=10>\n",
       "          date          ...\n",
       "         object         ...\n",
       "----------------------- ...\n",
       "2019-02-15T22:55:50.730 ...\n",
       "2019-02-15T22:56:26.007 ...\n",
       "2019-02-15T22:57:01.284 ...\n",
       "2019-02-15T22:57:36.562 ...\n",
       "2019-02-15T22:58:11.838 ...\n",
       "2019-02-15T22:58:47.115 ...\n",
       "2019-02-15T22:59:22.399 ...\n",
       "2019-02-15T22:59:57.677 ...\n",
       "2019-02-15T23:00:32.956 ...\n",
       "2019-02-15T23:01:08.233 ..."
      ]
     },
     "execution_count": 31,
     "metadata": {},
     "output_type": "execute_result"
    }
   ],
   "source": [
    "t[:10]"
   ]
  },
  {
   "cell_type": "code",
   "execution_count": null,
   "metadata": {},
   "outputs": [],
   "source": []
  }
 ],
 "metadata": {
  "kernelspec": {
   "display_name": "Python 3",
   "language": "python",
   "name": "python3"
  },
  "language_info": {
   "codemirror_mode": {
    "name": "ipython",
    "version": 3
   },
   "file_extension": ".py",
   "mimetype": "text/x-python",
   "name": "python",
   "nbconvert_exporter": "python",
   "pygments_lexer": "ipython3",
   "version": "3.6.7"
  },
  "toc": {
   "nav_menu": {},
   "number_sections": true,
   "sideBar": true,
   "skip_h1_title": false,
   "toc_cell": false,
   "toc_position": {},
   "toc_section_display": "block",
   "toc_window_display": false
  }
 },
 "nbformat": 4,
 "nbformat_minor": 2
}
