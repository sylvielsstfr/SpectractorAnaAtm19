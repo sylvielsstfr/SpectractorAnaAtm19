{
 "cells": [
  {
   "cell_type": "markdown",
   "metadata": {},
   "source": [
    "# MergeSpectroPhotoFactory\n",
    "\n",
    "- creation date : July 8th 2019\n",
    "\n",
    "- author Sylvie Dagoret"
   ]
  },
  {
   "cell_type": "code",
   "execution_count": 1,
   "metadata": {},
   "outputs": [],
   "source": [
    "import matplotlib.pyplot as plt\n",
    "%matplotlib inline\n",
    "\n",
    "import datetime\n",
    "from dateutil import parser   # parser of string into datetime\n",
    "\n",
    "import matplotlib as mpl\n",
    "import matplotlib.pyplot as plt\n",
    "import matplotlib.colors as colors\n",
    "import matplotlib.cm as cmx\n",
    "import matplotlib.dates as mdates\n",
    "from matplotlib import gridspec\n",
    "\n",
    "import numpy as np\n",
    "import os\n",
    "from scipy.interpolate import interp1d\n",
    "\n",
    "from astropy.time import Time\n",
    "from astropy.table import Table,QTable\n",
    "\n",
    "import re"
   ]
  },
  {
   "cell_type": "code",
   "execution_count": 2,
   "metadata": {},
   "outputs": [
    {
     "name": "stdout",
     "output_type": "stream",
     "text": [
      "workbookDir: /Users/dagoret/MacOSX/GitHub/LSST/SpectractorAnaAtm19/ana_20190215_HD116405_Filtre_None\n",
      "spectractordir: /Users/dagoret/MacOSX/GitHub/LSST/SpectractorAnaAtm19/ana_20190215_HD116405_Filtre_None/../../Spectractor\n",
      "toolsdir: /Users/dagoret/MacOSX/GitHub/LSST/SpectractorAnaAtm19/ana_20190215_HD116405_Filtre_None/../common_tools\n"
     ]
    }
   ],
   "source": [
    "import os\n",
    "from os import listdir\n",
    "from os.path import isfile, join\n",
    "import re\n",
    "import sys\n",
    "\n",
    "if not 'workbookDir' in globals():\n",
    "    workbookDir = os.getcwd()\n",
    "print('workbookDir: ' + workbookDir)\n",
    "\n",
    "spectractordir=workbookDir+\"/../../Spectractor\"\n",
    "print('spectractordir: ' + spectractordir)\n",
    "toolsdir=workbookDir+\"/../common_tools\"\n",
    "print(\"toolsdir:\",toolsdir)\n",
    "\n",
    "\n",
    "sys.path.append(workbookDir)\n",
    "sys.path.append(spectractordir)\n",
    "sys.path.append(os.path.dirname(workbookDir))\n",
    "sys.path.append(toolsdir)\n",
    "\n",
    "from libatmscattering import *"
   ]
  },
  {
   "cell_type": "code",
   "execution_count": 3,
   "metadata": {},
   "outputs": [],
   "source": [
    "plt.rcParams[\"axes.labelsize\"]=\"large\"\n",
    "plt.rcParams[\"axes.linewidth\"]=2.0\n",
    "plt.rcParams[\"xtick.major.size\"]=8\n",
    "plt.rcParams[\"ytick.major.size\"]=8\n",
    "plt.rcParams[\"ytick.minor.size\"]=5\n",
    "plt.rcParams[\"xtick.labelsize\"]=\"large\"\n",
    "plt.rcParams[\"ytick.labelsize\"]=\"large\"\n",
    "\n",
    "plt.rcParams[\"figure.figsize\"]=(10,10)\n",
    "plt.rcParams['axes.titlesize'] = 16\n",
    "plt.rcParams['axes.titleweight'] = 'bold'\n",
    "#plt.rcParams['axes.facecolor'] = 'blue'\n",
    "plt.rcParams['xtick.direction'] = 'out'\n",
    "plt.rcParams['ytick.direction'] = 'out'\n",
    "plt.rcParams['lines.markeredgewidth'] = 0.3 # the line width around the marker symbol\n",
    "plt.rcParams['lines.markersize'] = 5  # markersize, in points\n",
    "plt.rcParams['grid.alpha'] = 0.75 # transparency, between 0.0 and 1.0\n",
    "plt.rcParams['grid.linestyle'] = '-' # simple line\n",
    "plt.rcParams['grid.linewidth'] = 0.4 # in points\n",
    "plt.rcParams['font.size'] = 13"
   ]
  },
  {
   "cell_type": "markdown",
   "metadata": {},
   "source": [
    "# Utility functions"
   ]
  },
  {
   "cell_type": "code",
   "execution_count": 4,
   "metadata": {},
   "outputs": [],
   "source": [
    "def GetTables(tablesdir):\n",
    "    \"\"\"\n",
    "    GetTables(tablesdir)\n",
    "     input : directory of tables\n",
    "     \n",
    "     Read tables geerated by processgreyattenuation.py\n",
    "     \n",
    "    \"\"\"\n",
    "    fn_info=os.path.join(tablesdir,\"Info.npy\")\n",
    "    fn_wl=os.path.join(tablesdir,\"Lambdas_ref.npy\")\n",
    "    fn_msk=os.path.join(tablesdir,\"Mask.npy\")\n",
    "    fn_att=os.path.join(tablesdir,\"MAttenuation_mean_ALL.npy\")\n",
    "    fn_atterr=os.path.join(tablesdir,\"MAttenuation_Err_ALL.npy\")\n",
    "\n",
    "    general_info=np.load(fn_info,allow_pickle=True)\n",
    "    Lambdas_ref=np.load(fn_wl,allow_pickle=True)\n",
    "    mask= np.load(fn_msk,allow_pickle=True)\n",
    "    \n",
    "    #read masked arrays\n",
    "    compressed=np.load(fn_att)\n",
    "    values = np.zeros_like(mask, dtype=compressed.dtype)\n",
    "    np.place(values, ~mask, compressed)\n",
    "    MAttenuation_mean_ALL = np.ma.MaskedArray(values, mask)\n",
    "    \n",
    "    compressed=np.load(fn_atterr)\n",
    "    values = np.zeros_like(mask, dtype=compressed.dtype)\n",
    "    np.place(values, ~mask, compressed)\n",
    "    MAttenuation_Err_ALL = np.ma.MaskedArray(values, mask)\n",
    "    \n",
    "    \n",
    "    \n",
    "    fn_msk_mag=os.path.join(tablesdir,\"MMagMask.npy\")\n",
    "    fn_mag=os.path.join(tablesdir,\"MMagnitude_mean_ALL.npy\")\n",
    "    fn_magerr=os.path.join(tablesdir,\"MMagnitude_Err_ALL.npy\")\n",
    "\n",
    "    fn_msk_abs=os.path.join(tablesdir,\"MAbsMask.npy\")                 \n",
    "    fn_abs=os.path.join(tablesdir,\"MAbsorption_mean_ALL.npy\")\n",
    "    fn_abserr=os.path.join(tablesdir,\"MAbsorption_Err_ALL.npy\")\n",
    "                \n",
    "    \n",
    "    mask1= np.load(fn_msk_mag,allow_pickle=True)\n",
    "    mask2= np.load(fn_msk_abs,allow_pickle=True)\n",
    "    \n",
    "    #read masked arrays\n",
    "    compressed=np.load(fn_mag)\n",
    "    values = np.zeros_like(mask1, dtype=compressed.dtype)\n",
    "    np.place(values, ~mask1, compressed)\n",
    "    MMag_mean_ALL = np.ma.MaskedArray(values, mask1)\n",
    "    \n",
    "    compressed=np.load(fn_magerr)\n",
    "    values = np.zeros_like(mask1, dtype=compressed.dtype)\n",
    "    np.place(values, ~mask1, compressed)\n",
    "    MMag_Err_ALL = np.ma.MaskedArray(values, mask1)\n",
    "    \n",
    "    #read masked arrays\n",
    "    compressed=np.load(fn_abs)\n",
    "    values = np.zeros_like(mask2, dtype=compressed.dtype)\n",
    "    np.place(values, ~mask2, compressed)\n",
    "    MAbs_mean_ALL = np.ma.MaskedArray(values, mask2)\n",
    "    \n",
    "    compressed=np.load(fn_abserr)\n",
    "    values = np.zeros_like(mask2, dtype=compressed.dtype)\n",
    "    np.place(values, ~mask2, compressed)\n",
    "    MAbs_Err_ALL = np.ma.MaskedArray(values, mask2)\n",
    "    \n",
    "    \n",
    "    \n",
    "    return general_info,Lambdas_ref,MAttenuation_mean_ALL,MAttenuation_Err_ALL,MMag_mean_ALL, MMag_Err_ALL, MAbs_mean_ALL,MAbs_Err_ALL\n",
    "   "
   ]
  },
  {
   "cell_type": "code",
   "execution_count": 5,
   "metadata": {},
   "outputs": [],
   "source": [
    "def ExtractFromFilename(file_str):\n",
    "    \"\"\"\n",
    "    ExtractFromFilename(file_str): decode file name to get date.\n",
    "    Not used\n",
    "    \n",
    "    \"\"\"\n",
    "    SearchTagRe_date = '^T1M_([0-9]+)_.*_red_spectrum[.]fits$'\n",
    "    SearchTagRe_time = '^T1M_[0-9]+_([0-9]+)_.*_red[.]fits$'\n",
    "    SearchTagRe_num = '^T1M_[0-9]+_[0-9]+_([0-9]+)_.*_red[.]fits$'\n",
    "    SearchTagRe_obj = '^T1M_[0-9]+_[0-9]+_[0-9]+_(.*)_Filtre.*_red[.]fits$'\n",
    "    SearchTagRe_disp = '^T1M_[0-9]+_[0-9]+_[0-9]+_.*_(.*)_Filtre.*_red[.]fits$'\n",
    "    SearchTagRe_filt = '^T1M_[0-9]+_[0-9]+_[0-9]+_.*_(Filtre.*)[.][0-9]+_red[.]fits$'\n",
    "    SearchTagRe_evnum = '^T1M_[0-9]+_[0-9]+_[0-9]+_.*_Filtre.*[.]([0-9]+)_red[.]fits$'\n",
    "    \n",
    "    \n",
    "    tag_date=re.findall(SearchTagRe_date, file_str)\n",
    "    tag_time=re.findall(SearchTagRe_time, file_str)\n",
    "    \n",
    "    if len(tag_date)==1 and len(tag_time)==1:\n",
    "        return tag_date[0],tag_time[0]\n",
    "    else:\n",
    "        return None,None\n",
    "\n"
   ]
  },
  {
   "cell_type": "markdown",
   "metadata": {},
   "source": [
    "# Import photometric data"
   ]
  },
  {
   "cell_type": "markdown",
   "metadata": {},
   "source": [
    "## Read the photometry table"
   ]
  },
  {
   "cell_type": "code",
   "execution_count": 6,
   "metadata": {},
   "outputs": [],
   "source": [
    "t1 = Table.read('out_starphotometryfactory/table_starphotometry.ecsv', format='ascii.ecsv')"
   ]
  },
  {
   "cell_type": "code",
   "execution_count": 7,
   "metadata": {},
   "outputs": [],
   "source": [
    "Nobs1=len(t1)"
   ]
  },
  {
   "cell_type": "code",
   "execution_count": 8,
   "metadata": {},
   "outputs": [
    {
     "data": {
      "text/plain": [
       "287"
      ]
     },
     "execution_count": 8,
     "metadata": {},
     "output_type": "execute_result"
    }
   ],
   "source": [
    "Nobs1"
   ]
  },
  {
   "cell_type": "markdown",
   "metadata": {},
   "source": [
    "## Add field to get magnitudes"
   ]
  },
  {
   "cell_type": "code",
   "execution_count": 9,
   "metadata": {},
   "outputs": [],
   "source": [
    "t1[\"starmag\"]=-2.5*np.log10(t1[\"sigcirc\"])\n",
    "t1[\"bkgmag\"]=-2.5*np.log10(t1[\"bkgsum\"])\n",
    "\n",
    "t1[\"starmagerr\"]=2.5/2.3/t1[\"sigcirc\"]*np.sqrt(t1[\"errstatcirc\"]**2+t1[\"errannul\"]**2)\n",
    "t1[\"bkgmagerr\"]=2.5/2.3/t1[\"bkgsum\"]*t1[\"bkgstddevpix\"]*2000."
   ]
  },
  {
   "cell_type": "markdown",
   "metadata": {},
   "source": [
    "## Convert string into datetime"
   ]
  },
  {
   "cell_type": "code",
   "execution_count": 10,
   "metadata": {},
   "outputs": [],
   "source": [
    "all_datetime1 = [Time(d,format='isot', scale='utc').to_datetime()  for d in t1[\"date\"]]\n",
    "all_datetime1=np.array(all_datetime1)"
   ]
  },
  {
   "cell_type": "markdown",
   "metadata": {},
   "source": [
    "# Import spectroscopic data"
   ]
  },
  {
   "cell_type": "markdown",
   "metadata": {},
   "source": [
    "## Spectroscopic table location"
   ]
  },
  {
   "cell_type": "code",
   "execution_count": 11,
   "metadata": {},
   "outputs": [],
   "source": [
    "tabledir2=\"out_processgreyattenuation\""
   ]
  },
  {
   "cell_type": "markdown",
   "metadata": {},
   "source": [
    "## Get reference point of spectroscopic data"
   ]
  },
  {
   "cell_type": "code",
   "execution_count": 12,
   "metadata": {},
   "outputs": [],
   "source": [
    "t2=Table.read(os.path.join(tabledir2,\"ReferencePoint.ecsv\"), format='ascii.ecsv')"
   ]
  },
  {
   "cell_type": "code",
   "execution_count": 13,
   "metadata": {},
   "outputs": [
    {
     "data": {
      "text/html": [
       "<i>Table length=1</i>\n",
       "<table id=\"table140717233702336\" class=\"table-striped table-bordered table-condensed\">\n",
       "<thead><tr><th>idx</th><th>airmass</th><th>date</th><th>file</th></tr></thead>\n",
       "<thead><tr><th>int64</th><th>float64</th><th>object</th><th>str72</th></tr></thead>\n",
       "<tr><td>130</td><td>1.203605221824887</td><td>2019-02-16T00:30:21.373</td><td>T1M_20190216_003021_373_HD116405_Filtre_None_bin1x1.27_red_spectrum.fits</td></tr>\n",
       "</table>"
      ],
      "text/plain": [
       "<Table length=1>\n",
       " idx  ...\n",
       "int64 ...\n",
       "----- ...\n",
       "  130 ..."
      ]
     },
     "execution_count": 13,
     "metadata": {},
     "output_type": "execute_result"
    }
   ],
   "source": [
    "t2"
   ]
  },
  {
   "cell_type": "markdown",
   "metadata": {},
   "source": [
    "## Get the reference index in photometric and spectroscopic tables"
   ]
  },
  {
   "cell_type": "code",
   "execution_count": 14,
   "metadata": {},
   "outputs": [],
   "source": [
    "idx_ref2=t2[\"idx\"][0]"
   ]
  },
  {
   "cell_type": "code",
   "execution_count": 15,
   "metadata": {},
   "outputs": [],
   "source": [
    "datetime_ref=Time(t2[\"date\"][0]).to_datetime()"
   ]
  },
  {
   "cell_type": "code",
   "execution_count": 16,
   "metadata": {},
   "outputs": [],
   "source": [
    "idx_ref1=np.where(all_datetime1==datetime_ref)[0][0]"
   ]
  },
  {
   "cell_type": "code",
   "execution_count": 17,
   "metadata": {},
   "outputs": [
    {
     "name": "stdout",
     "output_type": "stream",
     "text": [
      "87 130\n"
     ]
    }
   ],
   "source": [
    "print(idx_ref1,idx_ref2)"
   ]
  },
  {
   "cell_type": "markdown",
   "metadata": {},
   "source": [
    "## Get Spectroscopic tables"
   ]
  },
  {
   "cell_type": "code",
   "execution_count": 18,
   "metadata": {},
   "outputs": [],
   "source": [
    "general_info,Lambdas_ref,MAttenuation_mean_ALL,MAttenuation_Err_ALL,MMag_mean_ALL, MMag_Err_ALL, MAbs_mean_ALL,MAbs_Err_ALL=GetTables(tabledir2)"
   ]
  },
  {
   "cell_type": "code",
   "execution_count": 19,
   "metadata": {},
   "outputs": [
    {
     "data": {
      "text/plain": [
       "(124, 347)"
      ]
     },
     "execution_count": 19,
     "metadata": {},
     "output_type": "execute_result"
    }
   ],
   "source": [
    "MAttenuation_mean_ALL.shape"
   ]
  },
  {
   "cell_type": "code",
   "execution_count": 20,
   "metadata": {},
   "outputs": [
    {
     "data": {
      "text/plain": [
       "(124, 347)"
      ]
     },
     "execution_count": 20,
     "metadata": {},
     "output_type": "execute_result"
    }
   ],
   "source": [
    "MMag_mean_ALL.shape"
   ]
  },
  {
   "cell_type": "code",
   "execution_count": 21,
   "metadata": {},
   "outputs": [
    {
     "data": {
      "text/plain": [
       "(124, 347)"
      ]
     },
     "execution_count": 21,
     "metadata": {},
     "output_type": "execute_result"
    }
   ],
   "source": [
    "MAbs_mean_ALL.shape"
   ]
  },
  {
   "cell_type": "markdown",
   "metadata": {},
   "source": [
    "## Number of observations"
   ]
  },
  {
   "cell_type": "code",
   "execution_count": 22,
   "metadata": {},
   "outputs": [],
   "source": [
    "NWLBIN,Nobs2=MAttenuation_mean_ALL.shape"
   ]
  },
  {
   "cell_type": "markdown",
   "metadata": {},
   "source": [
    "### Decode general info"
   ]
  },
  {
   "cell_type": "code",
   "execution_count": 23,
   "metadata": {},
   "outputs": [],
   "source": [
    "all_indexes2=general_info[:,0]\n",
    "all_eventnum2=general_info[:,1]\n",
    "all_airmass2=general_info[:,2]\n",
    "all_dt2=general_info[:,3]\n",
    "all_datetime2=general_info[:,4]\n",
    "all_referencebasedattenuation2=general_info[:,5]\n",
    "all_flag2=general_info[:,6]"
   ]
  },
  {
   "cell_type": "markdown",
   "metadata": {},
   "source": [
    "# Mapping of photometric index toward spectroscopic index"
   ]
  },
  {
   "cell_type": "code",
   "execution_count": 24,
   "metadata": {},
   "outputs": [],
   "source": [
    "map_photo_to_spectro_idx= np.array([ np.where(all_datetime2==time1)[0][0] for time1 in all_datetime1])"
   ]
  },
  {
   "cell_type": "code",
   "execution_count": 25,
   "metadata": {},
   "outputs": [
    {
     "data": {
      "text/plain": [
       "array([  0,   1,   2,   3,   4,   5,   6,   7,   8,   9,  10,  11,  12,\n",
       "        13,  14,  15,  16,  17,  18,  19,  20,  21,  22,  23,  24,  25,\n",
       "        26,  27,  28,  29,  30,  31,  32,  33,  34,  35,  36,  37,  38,\n",
       "        39,  40,  41,  42,  43,  44,  45,  46,  73,  74,  75,  76,  77,\n",
       "        78,  79,  80,  81,  82,  84,  85,  86,  87,  88,  89,  90,  91,\n",
       "        92,  93,  95, 103, 105, 106, 107, 108, 109, 110, 118, 119, 120,\n",
       "       121, 122, 123, 124, 125, 126, 127, 128, 129, 130, 131, 132, 133,\n",
       "       134, 135, 136, 137, 138, 139, 140, 141, 142, 143, 144, 145, 146,\n",
       "       147, 148, 149, 150, 151, 152, 153, 154, 155, 156, 157, 158, 159,\n",
       "       160, 161, 162, 163, 164, 165, 166, 167, 168, 169, 170, 171, 172,\n",
       "       173, 174, 175, 176, 177, 178, 179, 180, 181, 182, 183, 184, 185,\n",
       "       186, 188, 189, 190, 191, 192, 193, 194, 195, 196, 197, 198, 199,\n",
       "       200, 201, 203, 204, 205, 206, 207, 208, 209, 210, 211, 212, 213,\n",
       "       214, 215, 216, 217, 218, 219, 220, 221, 222, 223, 224, 225, 226,\n",
       "       227, 228, 229, 230, 231, 232, 233, 234, 235, 236, 238, 239, 240,\n",
       "       241, 242, 243, 244, 245, 246, 247, 248, 249, 250, 251, 252, 255,\n",
       "       256, 257, 258, 259, 260, 261, 264, 265, 266, 268, 269, 270, 271,\n",
       "       272, 273, 274, 276, 277, 278, 281, 282, 283, 284, 286, 287, 288,\n",
       "       289, 290, 291, 292, 296, 297, 298, 299, 300, 301, 302, 303, 304,\n",
       "       305, 306, 307, 308, 309, 310, 311, 312, 313, 314, 315, 318, 319,\n",
       "       320, 321, 322, 323, 324, 325, 326, 327, 328, 329, 330, 331, 332,\n",
       "       333, 334, 335, 336, 337, 338, 339, 340, 341, 342, 343, 344, 345,\n",
       "       346])"
      ]
     },
     "execution_count": 25,
     "metadata": {},
     "output_type": "execute_result"
    }
   ],
   "source": [
    "map_photo_to_spectro_idx"
   ]
  },
  {
   "cell_type": "markdown",
   "metadata": {},
   "source": [
    "# Start Analysis"
   ]
  },
  {
   "cell_type": "markdown",
   "metadata": {},
   "source": [
    "## Preselect wavelength"
   ]
  },
  {
   "cell_type": "code",
   "execution_count": 26,
   "metadata": {},
   "outputs": [],
   "source": [
    "WL_Selected=np.array([400,500,600,700,800,900])\n",
    "NBSELW=len(WL_Selected)"
   ]
  },
  {
   "cell_type": "code",
   "execution_count": 27,
   "metadata": {},
   "outputs": [],
   "source": [
    "# wavelength bin colors\n",
    "jet = plt.get_cmap('jet')\n",
    "cNorm = colors.Normalize(vmin=0, vmax=NBSELW)\n",
    "scalarMap = cmx.ScalarMappable(norm=cNorm, cmap=jet)\n",
    "all_colors = scalarMap.to_rgba(np.arange(NBSELW), alpha=1)"
   ]
  },
  {
   "cell_type": "markdown",
   "metadata": {},
   "source": [
    "## Find the bins corresponding to the preseselected wavelength "
   ]
  },
  {
   "cell_type": "code",
   "execution_count": 28,
   "metadata": {},
   "outputs": [],
   "source": [
    "all_idxwl = np.array([ (np.abs(Lambdas_ref-WL_Selected[iw])).argmin() for iw in np.arange(NBSELW) ])"
   ]
  },
  {
   "cell_type": "markdown",
   "metadata": {},
   "source": [
    "## List of selected wavelengths"
   ]
  },
  {
   "cell_type": "code",
   "execution_count": 29,
   "metadata": {},
   "outputs": [
    {
     "data": {
      "text/plain": [
       "array([397.5, 497.5, 597.5, 697.5, 797.5, 897.5])"
      ]
     },
     "execution_count": 29,
     "metadata": {},
     "output_type": "execute_result"
    }
   ],
   "source": [
    "Lambdas_ref[all_idxwl]"
   ]
  },
  {
   "cell_type": "code",
   "execution_count": null,
   "metadata": {},
   "outputs": [],
   "source": []
  }
 ],
 "metadata": {
  "kernelspec": {
   "display_name": "Python 3",
   "language": "python",
   "name": "python3"
  },
  "language_info": {
   "codemirror_mode": {
    "name": "ipython",
    "version": 3
   },
   "file_extension": ".py",
   "mimetype": "text/x-python",
   "name": "python",
   "nbconvert_exporter": "python",
   "pygments_lexer": "ipython3",
   "version": "3.7.1"
  },
  "toc": {
   "nav_menu": {},
   "number_sections": true,
   "sideBar": true,
   "skip_h1_title": false,
   "toc_cell": false,
   "toc_position": {},
   "toc_section_display": "block",
   "toc_window_display": false
  }
 },
 "nbformat": 4,
 "nbformat_minor": 2
}
