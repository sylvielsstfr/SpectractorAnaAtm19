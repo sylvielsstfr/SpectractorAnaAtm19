{
 "cells": [
  {
   "cell_type": "code",
   "execution_count": 148,
   "metadata": {},
   "outputs": [],
   "source": [
    "import os\n",
    "from os import listdir\n",
    "from os.path import isfile, join\n",
    "import pandas as pd\n",
    "import re\n",
    "\n",
    "import datetime\n",
    "\n",
    "import matplotlib as mpl\n",
    "import matplotlib.pyplot as plt\n",
    "import matplotlib.colors as colors\n",
    "import matplotlib.cm as cmx\n",
    "import matplotlib.dates as mdates\n",
    "from matplotlib import gridspec\n",
    "%matplotlib inline\n",
    "\n",
    "import numpy as np\n",
    "\n",
    "from scipy.interpolate import interp1d\n",
    "\n",
    "from astropy.time import Time\n",
    "from astropy.io import fits"
   ]
  },
  {
   "cell_type": "code",
   "execution_count": 149,
   "metadata": {},
   "outputs": [],
   "source": [
    "from astropy.stats import sigma_clipped_stats\n",
    "from photutils import CircularAperture\n",
    "#from astropy.visualization import SqrtStretch\n",
    "from astropy.visualization.mpl_normalize import (ImageNormalize,MinMaxInterval, SqrtStretch)\n",
    "\n",
    "from photutils import DAOStarFinder\n",
    "from photutils import make_source_mask\n",
    "from astropy.stats import SigmaClip\n",
    "from photutils import Background2D, MedianBackground"
   ]
  },
  {
   "cell_type": "code",
   "execution_count": 150,
   "metadata": {},
   "outputs": [],
   "source": [
    "plt.rcParams[\"axes.labelsize\"]=\"large\"\n",
    "plt.rcParams[\"axes.linewidth\"]=2.0\n",
    "plt.rcParams[\"xtick.major.size\"]=8\n",
    "plt.rcParams[\"ytick.major.size\"]=8\n",
    "plt.rcParams[\"ytick.minor.size\"]=5\n",
    "plt.rcParams[\"xtick.labelsize\"]=\"large\"\n",
    "plt.rcParams[\"ytick.labelsize\"]=\"large\"\n",
    "\n",
    "plt.rcParams[\"figure.figsize\"]=(8,8)\n",
    "plt.rcParams['axes.titlesize'] = 16\n",
    "plt.rcParams['axes.titleweight'] = 'bold'\n",
    "#plt.rcParams['axes.facecolor'] = 'blue'\n",
    "plt.rcParams['xtick.direction'] = 'out'\n",
    "plt.rcParams['ytick.direction'] = 'out'\n",
    "plt.rcParams['lines.markeredgewidth'] = 0.3 # the line width around the marker symbol\n",
    "plt.rcParams['lines.markersize'] = 5  # markersize, in points\n",
    "plt.rcParams['grid.alpha'] = 0.75 # transparency, between 0.0 and 1.0\n",
    "plt.rcParams['grid.linestyle'] = '-' # simple line\n",
    "plt.rcParams['grid.linewidth'] = 0.4 # in points\n",
    "plt.rcParams['font.size'] = 13"
   ]
  },
  {
   "cell_type": "code",
   "execution_count": 151,
   "metadata": {},
   "outputs": [],
   "source": [
    "def FindSources(data):\n",
    "    \"\"\"\n",
    "    \"\"\"\n",
    "    mean, median, std = sigma_clipped_stats(data, sigma=3.0)\n",
    "    daofind = DAOStarFinder(fwhm=10.0, threshold=10.*std)    \n",
    "    sources = daofind(data - median) \n",
    "    #sources = daofind(data) \n",
    "    return sources"
   ]
  },
  {
   "cell_type": "code",
   "execution_count": 152,
   "metadata": {},
   "outputs": [],
   "source": [
    "def GetExtractionParam(sources,width=20):\n",
    "    \"\"\"\n",
    "    \"\"\"\n",
    "    \n",
    "    y0=sources[\"ycentroid\"][0]\n",
    "    x0=sources[\"xcentroid\"][0]\n",
    "\n",
    "    xmin=int(x0-width)\n",
    "    xmax=int(x0+width)\n",
    "    ymin=int(y0-width)\n",
    "    ymax=int(y0+width)\n",
    "    \n",
    "    return x0,y0,xmin,xmax,ymin,ymax"
   ]
  },
  {
   "cell_type": "code",
   "execution_count": 153,
   "metadata": {},
   "outputs": [],
   "source": [
    "# where are the spectra\n",
    "#----------------------\n",
    "thedate = \"20190215\"\n",
    "rawinput_directory=\"/Users/dagoret/DATA/PicDuMidiFev2019/prod_\"+thedate+\"_v4\""
   ]
  },
  {
   "cell_type": "code",
   "execution_count": 154,
   "metadata": {},
   "outputs": [],
   "source": [
    "#file=\"T1M_20190216_041126_502_HD116405_Filtre_None_bin1x1.365_red.fit\"\n",
    "file=\"T1M_20190216_042315_191_HD116405_Filtre_None_bin1x1.372_red.fit\""
   ]
  },
  {
   "cell_type": "code",
   "execution_count": 155,
   "metadata": {},
   "outputs": [],
   "source": [
    "fullfilename=os.path.join(rawinput_directory,file)"
   ]
  },
  {
   "cell_type": "code",
   "execution_count": 156,
   "metadata": {},
   "outputs": [],
   "source": [
    "hdu = fits.open(fullfilename)"
   ]
  },
  {
   "cell_type": "code",
   "execution_count": 157,
   "metadata": {},
   "outputs": [],
   "source": [
    "data=hdu[0].data"
   ]
  },
  {
   "cell_type": "code",
   "execution_count": 158,
   "metadata": {},
   "outputs": [
    {
     "data": {
      "image/png": "[encoded data removed]",
      "text/plain": [
       "<Figure size 576x576 with 1 Axes>"
      ]
     },
     "metadata": {
      "needs_background": "light"
     },
     "output_type": "display_data"
    }
   ],
   "source": [
    "plt.imshow(data,origin=\"lower\",cmap=\"jet\")\n",
    "plt.grid()"
   ]
  },
  {
   "cell_type": "code",
   "execution_count": 159,
   "metadata": {},
   "outputs": [],
   "source": [
    "cutimg=data[0:750,0:750]"
   ]
  },
  {
   "cell_type": "code",
   "execution_count": 160,
   "metadata": {},
   "outputs": [],
   "source": [
    "sources=FindSources(cutimg)"
   ]
  },
  {
   "cell_type": "code",
   "execution_count": 161,
   "metadata": {},
   "outputs": [],
   "source": [
    "positions = (sources['xcentroid'], sources['ycentroid'])"
   ]
  },
  {
   "cell_type": "code",
   "execution_count": 162,
   "metadata": {},
   "outputs": [
    {
     "name": "stdout",
     "output_type": "stream",
     "text": [
      " id xcentroid ycentroid sharpness  ... sky    peak      flux       mag    \n",
      "--- --------- --------- ---------- ... --- --------- --------- -----------\n",
      "  1 479.48642 59.269187 0.40441148 ...   0 25812.291 556.00161  -6.8626901\n",
      "  2 198.39715 191.02711 0.42362149 ...   0 65547.723 846.42423  -7.3189702\n",
      "  3 192.61871 192.19116 0.34282863 ...   0 64855.828 867.06686  -7.3451315\n",
      "  4 465.24691 217.55138 0.40557512 ...   0 47.204788  1.118693 -0.12177734\n",
      "  5 595.93434 379.87027 0.57891742 ...   0 68.468633  2.056827  -0.7829944\n"
     ]
    }
   ],
   "source": [
    "for col in sources.colnames:    \n",
    "    sources[col].info.format = '%.8g'  # for consistent table output\n",
    "print(sources)   "
   ]
  },
  {
   "cell_type": "code",
   "execution_count": 163,
   "metadata": {},
   "outputs": [
    {
     "data": {
      "text/html": [
       "<i>Table length=5</i>\n",
       "<table id=\"table140610541734880\" class=\"table-striped table-bordered table-condensed\">\n",
       "<thead><tr><th>id</th><th>xcentroid</th><th>ycentroid</th><th>sharpness</th><th>roundness1</th><th>roundness2</th><th>npix</th><th>sky</th><th>peak</th><th>flux</th><th>mag</th></tr></thead>\n",
       "<thead><tr><th>int64</th><th>float64</th><th>float64</th><th>float64</th><th>float64</th><th>float64</th><th>int64</th><th>float64</th><th>float64</th><th>float64</th><th>float64</th></tr></thead>\n",
       "<tr><td>1</td><td>479.48642</td><td>59.269187</td><td>0.40441148</td><td>-0.29930178</td><td>-0.11659606</td><td>169</td><td>0</td><td>25812.291</td><td>556.00161</td><td>-6.8626901</td></tr>\n",
       "<tr><td>2</td><td>198.39715</td><td>191.02711</td><td>0.42362149</td><td>-0.20363119</td><td>0.34148734</td><td>169</td><td>0</td><td>65547.723</td><td>846.42423</td><td>-7.3189702</td></tr>\n",
       "<tr><td>3</td><td>192.61871</td><td>192.19116</td><td>0.34282863</td><td>0.73084413</td><td>0.46082192</td><td>169</td><td>0</td><td>64855.828</td><td>867.06686</td><td>-7.3451315</td></tr>\n",
       "<tr><td>4</td><td>465.24691</td><td>217.55138</td><td>0.40557512</td><td>0.035216845</td><td>-0.082626722</td><td>169</td><td>0</td><td>47.204788</td><td>1.118693</td><td>-0.12177734</td></tr>\n",
       "<tr><td>5</td><td>595.93434</td><td>379.87027</td><td>0.57891742</td><td>-0.11627104</td><td>-0.17838172</td><td>169</td><td>0</td><td>68.468633</td><td>2.056827</td><td>-0.7829944</td></tr>\n",
       "</table>"
      ],
      "text/plain": [
       "<Table length=5>\n",
       "  id  xcentroid ycentroid sharpness  ...   sky      peak      flux       mag    \n",
       "int64  float64   float64   float64   ... float64  float64   float64    float64  \n",
       "----- --------- --------- ---------- ... ------- --------- --------- -----------\n",
       "    1 479.48642 59.269187 0.40441148 ...       0 25812.291 556.00161  -6.8626901\n",
       "    2 198.39715 191.02711 0.42362149 ...       0 65547.723 846.42423  -7.3189702\n",
       "    3 192.61871 192.19116 0.34282863 ...       0 64855.828 867.06686  -7.3451315\n",
       "    4 465.24691 217.55138 0.40557512 ...       0 47.204788  1.118693 -0.12177734\n",
       "    5 595.93434 379.87027 0.57891742 ...       0 68.468633  2.056827  -0.7829944"
      ]
     },
     "execution_count": 163,
     "metadata": {},
     "output_type": "execute_result"
    }
   ],
   "source": [
    "sources"
   ]
  },
  {
   "cell_type": "code",
   "execution_count": 164,
   "metadata": {},
   "outputs": [],
   "source": [
    "halfwidth=50\n",
    "x0,y0,xmin,xmax,ymin,ymax=GetExtractionParam(sources,width=halfwidth)"
   ]
  },
  {
   "cell_type": "code",
   "execution_count": 165,
   "metadata": {},
   "outputs": [
    {
     "data": {
      "text/plain": [
       "(479.4864181546125, 59.26918669426224, 429, 529, 9, 109)"
      ]
     },
     "execution_count": 165,
     "metadata": {},
     "output_type": "execute_result"
    }
   ],
   "source": [
    "x0,y0,xmin,xmax,ymin,ymax"
   ]
  },
  {
   "cell_type": "code",
   "execution_count": 166,
   "metadata": {},
   "outputs": [],
   "source": [
    "vignette=data[ymin:ymax,xmin:xmax]"
   ]
  },
  {
   "cell_type": "code",
   "execution_count": 167,
   "metadata": {},
   "outputs": [
    {
     "data": {
      "image/png": "[encoded data removed]",
      "text/plain": [
       "<Figure size 576x576 with 1 Axes>"
      ]
     },
     "metadata": {
      "needs_background": "light"
     },
     "output_type": "display_data"
    }
   ],
   "source": [
    "plt.imshow(vignette,origin=\"lower\",cmap=\"jet\")\n",
    "plt.grid()"
   ]
  },
  {
   "cell_type": "code",
   "execution_count": 168,
   "metadata": {},
   "outputs": [],
   "source": [
    "from photutils import aperture_photometry\n",
    "from photutils import CircularAperture"
   ]
  },
  {
   "cell_type": "code",
   "execution_count": 169,
   "metadata": {},
   "outputs": [],
   "source": [
    "newx0=halfwidth\n",
    "newy0=halfwidth"
   ]
  },
  {
   "cell_type": "code",
   "execution_count": 170,
   "metadata": {},
   "outputs": [],
   "source": [
    "aperture= CircularAperture((newx0,newy0), r=25.)"
   ]
  },
  {
   "cell_type": "code",
   "execution_count": 171,
   "metadata": {},
   "outputs": [],
   "source": [
    "phot_table = aperture_photometry(vignette, aperture)"
   ]
  },
  {
   "cell_type": "code",
   "execution_count": 172,
   "metadata": {},
   "outputs": [],
   "source": [
    "for col in phot_table.colnames:    \n",
    "    phot_table[col].info.format = '%.8g'  # for consistent table output"
   ]
  },
  {
   "cell_type": "code",
   "execution_count": 173,
   "metadata": {},
   "outputs": [
    {
     "data": {
      "text/html": [
       "<i>QTable length=1</i>\n",
       "<table id=\"table140609996342104\" class=\"table-striped table-bordered table-condensed\">\n",
       "<thead><tr><th>id</th><th>xcenter</th><th>ycenter</th><th>aperture_sum</th></tr></thead>\n",
       "<thead><tr><th></th><th>pix</th><th>pix</th><th></th></tr></thead>\n",
       "<thead><tr><th>int64</th><th>float64</th><th>float64</th><th>float64</th></tr></thead>\n",
       "<tr><td>1</td><td>50</td><td>50</td><td>3213189.5</td></tr>\n",
       "</table>"
      ],
      "text/plain": [
       "<QTable length=1>\n",
       "  id  xcenter ycenter aperture_sum\n",
       "        pix     pix               \n",
       "int64 float64 float64   float64   \n",
       "----- ------- ------- ------------\n",
       "    1      50      50    3213189.5"
      ]
     },
     "execution_count": 173,
     "metadata": {},
     "output_type": "execute_result"
    }
   ],
   "source": [
    "phot_table"
   ]
  },
  {
   "cell_type": "code",
   "execution_count": null,
   "metadata": {},
   "outputs": [],
   "source": []
  },
  {
   "cell_type": "code",
   "execution_count": 174,
   "metadata": {},
   "outputs": [],
   "source": [
    "all_r=np.arange(1,50)\n",
    "N=len(all_r)\n",
    "all_aps=np.zeros(N)\n",
    "idx=0\n",
    "for r in all_r:\n",
    "    aperture= CircularAperture((newx0,newy0), r=r)\n",
    "    phot_table = aperture_photometry(vignette, aperture)\n",
    "    aps=phot_table[\"aperture_sum\"][0]\n",
    "    all_aps[idx]=aps\n",
    "    idx+=1\n",
    "maxaps=all_aps.max()"
   ]
  },
  {
   "cell_type": "code",
   "execution_count": 175,
   "metadata": {},
   "outputs": [
    {
     "data": {
      "text/plain": [
       "Text(0.5, 1.0, 'Circular Aperture')"
      ]
     },
     "execution_count": 175,
     "metadata": {},
     "output_type": "execute_result"
    },
    {
     "data": {
      "image/png": "[encoded data removed]",
      "text/plain": [
       "<Figure size 864x576 with 1 Axes>"
      ]
     },
     "metadata": {
      "needs_background": "light"
     },
     "output_type": "display_data"
    }
   ],
   "source": [
    "plt.figure(figsize=(12,8))\n",
    "plt.plot(all_r,all_aps,\"b-o\")\n",
    "\n",
    "plt.grid()\n",
    "plt.xlabel(\"radius in number of pixel\")\n",
    "plt.ylabel(\"Aperture sum (ADU)\")\n",
    "plt.title(\"Circular Aperture\")\n",
    "#plt.legend()"
   ]
  },
  {
   "cell_type": "code",
   "execution_count": 176,
   "metadata": {},
   "outputs": [],
   "source": [
    "from photutils import CircularAperture, CircularAnnulus"
   ]
  },
  {
   "cell_type": "code",
   "execution_count": 177,
   "metadata": {},
   "outputs": [
    {
     "data": {
      "text/plain": [
       "50"
      ]
     },
     "execution_count": 177,
     "metadata": {},
     "output_type": "execute_result"
    }
   ],
   "source": [
    "newx0"
   ]
  },
  {
   "cell_type": "code",
   "execution_count": 178,
   "metadata": {},
   "outputs": [],
   "source": [
    "annulus_aperture = CircularAnnulus((newx0,newy0), r_in=40, r_out=50)"
   ]
  },
  {
   "cell_type": "code",
   "execution_count": 179,
   "metadata": {},
   "outputs": [],
   "source": [
    "annulus_masks = annulus_aperture.to_mask(method='center')"
   ]
  },
  {
   "cell_type": "code",
   "execution_count": 180,
   "metadata": {},
   "outputs": [],
   "source": [
    "#plt.imshow(annulus_masks[0],cmap=\"jet\")"
   ]
  },
  {
   "cell_type": "code",
   "execution_count": 181,
   "metadata": {},
   "outputs": [],
   "source": [
    "annulus_data = annulus_masks[0].multiply(vignette)"
   ]
  },
  {
   "cell_type": "code",
   "execution_count": 182,
   "metadata": {},
   "outputs": [],
   "source": [
    "mask = annulus_masks[0].data\n",
    "annulus_data_1d = annulus_data[mask > 0]"
   ]
  },
  {
   "cell_type": "code",
   "execution_count": 183,
   "metadata": {},
   "outputs": [
    {
     "data": {
      "text/plain": [
       "<matplotlib.image.AxesImage at 0x7fe27165f128>"
      ]
     },
     "execution_count": 183,
     "metadata": {},
     "output_type": "execute_result"
    },
    {
     "data": {
      "image/png": "[encoded data removed]",
      "text/plain": [
       "<Figure size 576x576 with 1 Axes>"
      ]
     },
     "metadata": {
      "needs_background": "light"
     },
     "output_type": "display_data"
    }
   ],
   "source": [
    "plt.imshow(mask)"
   ]
  },
  {
   "cell_type": "code",
   "execution_count": 184,
   "metadata": {},
   "outputs": [],
   "source": [
    " _, median_sigclip, _ = sigma_clipped_stats(annulus_data_1d)"
   ]
  },
  {
   "cell_type": "code",
   "execution_count": 185,
   "metadata": {},
   "outputs": [
    {
     "data": {
      "text/plain": [
       "58.01776276091676"
      ]
     },
     "execution_count": 185,
     "metadata": {},
     "output_type": "execute_result"
    }
   ],
   "source": [
    "median_sigclip"
   ]
  },
  {
   "cell_type": "code",
   "execution_count": 186,
   "metadata": {},
   "outputs": [],
   "source": [
    "background = median_sigclip * annulus_aperture.area()"
   ]
  },
  {
   "cell_type": "code",
   "execution_count": 187,
   "metadata": {},
   "outputs": [
    {
     "data": {
      "text/plain": [
       "2827.4333882308138"
      ]
     },
     "execution_count": 187,
     "metadata": {},
     "output_type": "execute_result"
    }
   ],
   "source": [
    "annulus_aperture.area()"
   ]
  },
  {
   "cell_type": "code",
   "execution_count": 188,
   "metadata": {},
   "outputs": [
    {
     "data": {
      "text/plain": [
       "2827.4333882308138"
      ]
     },
     "execution_count": 188,
     "metadata": {},
     "output_type": "execute_result"
    }
   ],
   "source": [
    "np.pi*(50**2-40**2)"
   ]
  },
  {
   "cell_type": "code",
   "execution_count": 189,
   "metadata": {},
   "outputs": [
    {
     "data": {
      "text/plain": [
       "58.01776276091676"
      ]
     },
     "execution_count": 189,
     "metadata": {},
     "output_type": "execute_result"
    }
   ],
   "source": [
    " median_sigclip"
   ]
  },
  {
   "cell_type": "code",
   "execution_count": 190,
   "metadata": {},
   "outputs": [],
   "source": [
    "fullbg = np.full_like(annulus_data, median_sigclip)"
   ]
  },
  {
   "cell_type": "code",
   "execution_count": 191,
   "metadata": {},
   "outputs": [
    {
     "data": {
      "text/plain": [
       "array([[58.01776276, 58.01776276, 58.01776276, ..., 58.01776276,\n",
       "        58.01776276, 58.01776276],\n",
       "       [58.01776276, 58.01776276, 58.01776276, ..., 58.01776276,\n",
       "        58.01776276, 58.01776276],\n",
       "       [58.01776276, 58.01776276, 58.01776276, ..., 58.01776276,\n",
       "        58.01776276, 58.01776276],\n",
       "       ...,\n",
       "       [58.01776276, 58.01776276, 58.01776276, ..., 58.01776276,\n",
       "        58.01776276, 58.01776276],\n",
       "       [58.01776276, 58.01776276, 58.01776276, ..., 58.01776276,\n",
       "        58.01776276, 58.01776276],\n",
       "       [58.01776276, 58.01776276, 58.01776276, ..., 58.01776276,\n",
       "        58.01776276, 58.01776276]])"
      ]
     },
     "execution_count": 191,
     "metadata": {},
     "output_type": "execute_result"
    }
   ],
   "source": [
    "fullbg"
   ]
  },
  {
   "cell_type": "code",
   "execution_count": 192,
   "metadata": {},
   "outputs": [
    {
     "data": {
      "text/plain": [
       "(101, 101)"
      ]
     },
     "execution_count": 192,
     "metadata": {},
     "output_type": "execute_result"
    }
   ],
   "source": [
    "fullbg.shape"
   ]
  },
  {
   "cell_type": "code",
   "execution_count": 193,
   "metadata": {},
   "outputs": [],
   "source": [
    "bg=annulus_masks[0]*fullbg"
   ]
  },
  {
   "cell_type": "code",
   "execution_count": 194,
   "metadata": {},
   "outputs": [
    {
     "data": {
      "text/plain": [
       "<matplotlib.image.AxesImage at 0x7fe271624240>"
      ]
     },
     "execution_count": 194,
     "metadata": {},
     "output_type": "execute_result"
    },
    {
     "data": {
      "image/png": "[encoded data removed]",
      "text/plain": [
       "<Figure size 576x576 with 1 Axes>"
      ]
     },
     "metadata": {
      "needs_background": "light"
     },
     "output_type": "display_data"
    }
   ],
   "source": [
    "plt.imshow(bg,cmap=\"jet\")"
   ]
  },
  {
   "cell_type": "code",
   "execution_count": 195,
   "metadata": {},
   "outputs": [
    {
     "data": {
      "text/plain": [
       "<matplotlib.image.AxesImage at 0x7fe271828588>"
      ]
     },
     "execution_count": 195,
     "metadata": {},
     "output_type": "execute_result"
    },
    {
     "data": {
      "image/png": "[encoded data removed]",
      "text/plain": [
       "<Figure size 576x576 with 1 Axes>"
      ]
     },
     "metadata": {
      "needs_background": "light"
     },
     "output_type": "display_data"
    }
   ],
   "source": [
    "plt.imshow(bg)"
   ]
  },
  {
   "cell_type": "code",
   "execution_count": 196,
   "metadata": {},
   "outputs": [
    {
     "data": {
      "image/png": "[encoded data removed]",
      "text/plain": [
       "<Figure size 1080x720 with 2 Axes>"
      ]
     },
     "metadata": {
      "needs_background": "light"
     },
     "output_type": "display_data"
    }
   ],
   "source": [
    "plt.figure(figsize=(15,10))\n",
    "plt.subplot(1,2,1)\n",
    "plt.imshow(annulus_data,origin=\"lower\",cmap=\"jet\")\n",
    "plt.title(\"annulus_data\")\n",
    "plt.grid()\n",
    "plt.subplot(1,2,2)\n",
    "plt.imshow(bg,origin=\"lower\",cmap=\"jet\")\n",
    "plt.title(\"bg=annulus_masks[0].multiply(fullbg)\")\n",
    "plt.grid()"
   ]
  },
  {
   "cell_type": "code",
   "execution_count": null,
   "metadata": {},
   "outputs": [],
   "source": []
  },
  {
   "cell_type": "code",
   "execution_count": 197,
   "metadata": {},
   "outputs": [],
   "source": [
    "signal=annulus_data-bg"
   ]
  },
  {
   "cell_type": "code",
   "execution_count": 198,
   "metadata": {},
   "outputs": [
    {
     "data": {
      "image/png": "[encoded data removed]",
      "text/plain": [
       "<Figure size 576x576 with 1 Axes>"
      ]
     },
     "metadata": {
      "needs_background": "light"
     },
     "output_type": "display_data"
    }
   ],
   "source": [
    "plt.imshow(signal,origin=\"lower\",cmap=\"jet\")\n",
    "plt.grid()"
   ]
  },
  {
   "cell_type": "markdown",
   "metadata": {},
   "source": [
    "# Circular photometry"
   ]
  },
  {
   "cell_type": "code",
   "execution_count": 199,
   "metadata": {},
   "outputs": [],
   "source": [
    "star_aperture= CircularAperture((newx0,newy0), r=25.)"
   ]
  },
  {
   "cell_type": "code",
   "execution_count": 200,
   "metadata": {},
   "outputs": [],
   "source": [
    "phot_table = aperture_photometry(vignette, star_aperture)"
   ]
  },
  {
   "cell_type": "code",
   "execution_count": 201,
   "metadata": {},
   "outputs": [
    {
     "data": {
      "text/html": [
       "<i>QTable length=1</i>\n",
       "<table id=\"table140610310450312\" class=\"table-striped table-bordered table-condensed\">\n",
       "<thead><tr><th>id</th><th>xcenter</th><th>ycenter</th><th>aperture_sum</th></tr></thead>\n",
       "<thead><tr><th></th><th>pix</th><th>pix</th><th></th></tr></thead>\n",
       "<thead><tr><th>int64</th><th>float64</th><th>float64</th><th>float64</th></tr></thead>\n",
       "<tr><td>1</td><td>50.0</td><td>50.0</td><td>3213189.526871992</td></tr>\n",
       "</table>"
      ],
      "text/plain": [
       "<QTable length=1>\n",
       "  id  xcenter ycenter    aperture_sum  \n",
       "        pix     pix                    \n",
       "int64 float64 float64      float64     \n",
       "----- ------- ------- -----------------\n",
       "    1    50.0    50.0 3213189.526871992"
      ]
     },
     "execution_count": 201,
     "metadata": {},
     "output_type": "execute_result"
    }
   ],
   "source": [
    "phot_table"
   ]
  },
  {
   "cell_type": "markdown",
   "metadata": {},
   "source": [
    "## Annulus background extraction"
   ]
  },
  {
   "cell_type": "code",
   "execution_count": 207,
   "metadata": {},
   "outputs": [
    {
     "name": "stdout",
     "output_type": "stream",
     "text": [
      " id xcenter ycenter aperture_sum ... annulus_median aper_bkg aper_sum_bkgsub\n",
      "      pix     pix                ...                                        \n",
      "--- ------- ------- ------------ ... -------------- -------- ---------------\n",
      "  1      50      50    3213189.5 ...              0        0       3213189.5\n",
      " id xcenter ycenter aperture_sum ... annulus_median aper_bkg aper_sum_bkgsub\n",
      "      pix     pix                ...                                        \n",
      "--- ------- ------- ------------ ... -------------- -------- ---------------\n",
      "  1      50      50    3213189.5 ...              0        0       3213189.5\n",
      " id xcenter ycenter aperture_sum ... annulus_median aper_bkg aper_sum_bkgsub\n",
      "      pix     pix                ...                                        \n",
      "--- ------- ------- ------------ ... -------------- -------- ---------------\n",
      "  1      50      50    3213189.5 ...              0        0       3213189.5\n",
      " id xcenter ycenter aperture_sum ... annulus_median aper_bkg aper_sum_bkgsub\n",
      "      pix     pix                ...                                        \n",
      "--- ------- ------- ------------ ... -------------- -------- ---------------\n",
      "  1      50      50    3213189.5 ...              0        0       3213189.5\n",
      " id xcenter ycenter aperture_sum ... annulus_median aper_bkg aper_sum_bkgsub\n",
      "      pix     pix                ...                                        \n",
      "--- ------- ------- ------------ ... -------------- -------- ---------------\n",
      "  1      50      50    3213189.5 ...              0        0       3213189.5\n",
      " id xcenter ycenter aperture_sum ... annulus_median aper_bkg aper_sum_bkgsub\n",
      "      pix     pix                ...                                        \n",
      "--- ------- ------- ------------ ... -------------- -------- ---------------\n",
      "  1      50      50    3213189.5 ...              0        0       3213189.5\n",
      " id xcenter ycenter aperture_sum ... annulus_median aper_bkg aper_sum_bkgsub\n",
      "      pix     pix                ...                                        \n",
      "--- ------- ------- ------------ ... -------------- -------- ---------------\n",
      "  1      50      50    3213189.5 ...              0        0       3213189.5\n",
      " id xcenter ycenter aperture_sum ... annulus_median aper_bkg aper_sum_bkgsub\n",
      "      pix     pix                ...                                        \n",
      "--- ------- ------- ------------ ... -------------- -------- ---------------\n",
      "  1      50      50    3213189.5 ...              0        0       3213189.5\n",
      " id xcenter ycenter aperture_sum ... annulus_median aper_bkg aper_sum_bkgsub\n",
      "      pix     pix                ...                                        \n",
      "--- ------- ------- ------------ ... -------------- -------- ---------------\n",
      "  1      50      50    3213189.5 ...              0        0       3213189.5\n",
      " id xcenter ycenter aperture_sum ... annulus_median aper_bkg aper_sum_bkgsub\n",
      "      pix     pix                ...                                        \n",
      "--- ------- ------- ------------ ... -------------- -------- ---------------\n",
      "  1      50      50    3213189.5 ...              0        0       3213189.5\n",
      " id xcenter ycenter aperture_sum ... annulus_median aper_bkg aper_sum_bkgsub\n",
      "      pix     pix                ...                                        \n",
      "--- ------- ------- ------------ ... -------------- -------- ---------------\n",
      "  1      50      50    3213189.5 ...              0        0       3213189.5\n",
      " id xcenter ycenter aperture_sum ... annulus_median aper_bkg aper_sum_bkgsub\n",
      "      pix     pix                ...                                        \n",
      "--- ------- ------- ------------ ... -------------- -------- ---------------\n",
      "  1      50      50    3213189.5 ...              0        0       3213189.5\n",
      " id xcenter ycenter aperture_sum ... annulus_median aper_bkg aper_sum_bkgsub\n",
      "      pix     pix                ...                                        \n",
      "--- ------- ------- ------------ ... -------------- -------- ---------------\n",
      "  1      50      50    3213189.5 ...              0        0       3213189.5\n",
      " id xcenter ycenter aperture_sum ... annulus_median aper_bkg aper_sum_bkgsub\n",
      "      pix     pix                ...                                        \n",
      "--- ------- ------- ------------ ... -------------- -------- ---------------\n",
      "  1      50      50    3213189.5 ...              0        0       3213189.5\n",
      " id xcenter ycenter aperture_sum ... annulus_median aper_bkg aper_sum_bkgsub\n",
      "      pix     pix                ...                                        \n",
      "--- ------- ------- ------------ ... -------------- -------- ---------------\n",
      "  1      50      50    3213189.5 ...              0        0       3213189.5\n",
      " id xcenter ycenter aperture_sum ... annulus_median aper_bkg aper_sum_bkgsub\n",
      "      pix     pix                ...                                        \n",
      "--- ------- ------- ------------ ... -------------- -------- ---------------\n",
      "  1      50      50    3213189.5 ...              0        0       3213189.5\n",
      " id xcenter ycenter aperture_sum ... annulus_median aper_bkg aper_sum_bkgsub\n",
      "      pix     pix                ...                                        \n",
      "--- ------- ------- ------------ ... -------------- -------- ---------------\n",
      "  1      50      50    3213189.5 ...              0        0       3213189.5\n",
      " id xcenter ycenter aperture_sum ... annulus_median aper_bkg aper_sum_bkgsub\n",
      "      pix     pix                ...                                        \n",
      "--- ------- ------- ------------ ... -------------- -------- ---------------\n",
      "  1      50      50    3213189.5 ...              0        0       3213189.5\n",
      " id xcenter ycenter aperture_sum ... annulus_median aper_bkg aper_sum_bkgsub\n",
      "      pix     pix                ...                                        \n",
      "--- ------- ------- ------------ ... -------------- -------- ---------------\n",
      "  1      50      50    3213189.5 ...              0        0       3213189.5\n",
      " id xcenter ycenter aperture_sum ... annulus_median aper_bkg aper_sum_bkgsub\n",
      "      pix     pix                ...                                        \n",
      "--- ------- ------- ------------ ... -------------- -------- ---------------\n",
      "  1      50      50    3213189.5 ...              0        0       3213189.5\n",
      " id xcenter ycenter aperture_sum ... annulus_median aper_bkg aper_sum_bkgsub\n",
      "      pix     pix                ...                                        \n",
      "--- ------- ------- ------------ ... -------------- -------- ---------------\n",
      "  1      50      50    3213189.5 ...              0        0       3213189.5\n",
      " id xcenter ycenter aperture_sum ... annulus_median aper_bkg aper_sum_bkgsub\n",
      "      pix     pix                ...                                        \n",
      "--- ------- ------- ------------ ... -------------- -------- ---------------\n",
      "  1      50      50    3213189.5 ...              0        0       3213189.5\n",
      " id xcenter ycenter aperture_sum ... annulus_median aper_bkg aper_sum_bkgsub\n",
      "      pix     pix                ...                                        \n",
      "--- ------- ------- ------------ ... -------------- -------- ---------------\n",
      "  1      50      50    3213189.5 ...              0        0       3213189.5\n",
      " id xcenter ycenter aperture_sum ... annulus_median aper_bkg aper_sum_bkgsub\n",
      "      pix     pix                ...                                        \n",
      "--- ------- ------- ------------ ... -------------- -------- ---------------\n",
      "  1      50      50    3213189.5 ...              0        0       3213189.5\n",
      " id xcenter ycenter aperture_sum ... annulus_median aper_bkg aper_sum_bkgsub\n",
      "      pix     pix                ...                                        \n",
      "--- ------- ------- ------------ ... -------------- -------- ---------------\n",
      "  1      50      50    3213189.5 ...              0        0       3213189.5\n",
      " id xcenter ycenter aperture_sum ... annulus_median aper_bkg aper_sum_bkgsub\n",
      "      pix     pix                ...                                        \n",
      "--- ------- ------- ------------ ... -------------- -------- ---------------\n",
      "  1      50      50    3213189.5 ...              0        0       3213189.5\n",
      " id xcenter ycenter aperture_sum ... annulus_median aper_bkg aper_sum_bkgsub\n",
      "      pix     pix                ...                                        \n",
      "--- ------- ------- ------------ ... -------------- -------- ---------------\n",
      "  1      50      50    3213189.5 ...              0        0       3213189.5\n",
      " id xcenter ycenter aperture_sum ... annulus_median aper_bkg aper_sum_bkgsub\n",
      "      pix     pix                ...                                        \n",
      "--- ------- ------- ------------ ... -------------- -------- ---------------\n",
      "  1      50      50    3213189.5 ...              0        0       3213189.5\n",
      " id xcenter ycenter aperture_sum ... annulus_median aper_bkg aper_sum_bkgsub\n",
      "      pix     pix                ...                                        \n",
      "--- ------- ------- ------------ ... -------------- -------- ---------------\n",
      "  1      50      50    3213189.5 ...              0        0       3213189.5\n",
      " id xcenter ycenter aperture_sum ... annulus_median aper_bkg aper_sum_bkgsub\n",
      "      pix     pix                ...                                        \n",
      "--- ------- ------- ------------ ... -------------- -------- ---------------\n",
      "  1      50      50    3213189.5 ...              0        0       3213189.5\n"
     ]
    }
   ],
   "source": [
    "gel=4.8 # electrons per ADU\n",
    "all_r=np.arange(20,50)\n",
    "N=len(all_r)\n",
    "all_aps=np.zeros(N)\n",
    "idx=0\n",
    "for r in all_r:\n",
    "    theannulus_aperture = CircularAnnulus((width,width), r_in=r, r_out=r+5)\n",
    "    theannulus_masks = theannulus_aperture.to_mask(method='center')\n",
    "    theannulus_data = theannulus_masks[0].multiply(vignette)  # the annulus data image\n",
    "    themask = theannulus_masks[0].data\n",
    "    theannulus_data_1d = theannulus_data[themask > 0]\n",
    "    _, themedian_sigclip, _ = sigma_clipped_stats(theannulus_data_1d)\n",
    "    thefullbg = np.full_like(theannulus_data, themedian_sigclip)\n",
    "    #background = median_sigclip * annulus_aperture.area()\n",
    "    #thebg=theannulus_masks[0].multiply(thefullbg)\n",
    "    thebg=theannulus_masks[0]*thefullbg\n",
    "    #thesignal=theannulus_data-thebg\n",
    "    theerror = np.sqrt(vignette/gel) # should be better calculated\n",
    "    phot = aperture_photometry(vignette, star_aperture,error=theerror)\n",
    "    phot['annulus_median'] = themedian_sigclip\n",
    "    phot['aper_bkg'] = themedian_sigclip * star_aperture.area()\n",
    "    phot['aper_sum_bkgsub'] = phot['aperture_sum'] - phot['aper_bkg']\n",
    "    for col in phot.colnames:\n",
    "        phot[col].info.format = '%.8g'  # for consistent table output\n",
    "    print(phot)\n",
    "    all_aps[idx]=phot[\"aper_sum_bkgsub\"]\n",
    "    idx+=1\n",
    "maxaps=all_aps.max()"
   ]
  },
  {
   "cell_type": "code",
   "execution_count": 208,
   "metadata": {},
   "outputs": [
    {
     "data": {
      "text/plain": [
       "(16.2, 16.4)"
      ]
     },
     "execution_count": 208,
     "metadata": {},
     "output_type": "execute_result"
    },
    {
     "data": {
      "image/png": "[encoded data removed]",
      "text/plain": [
       "<Figure size 576x576 with 1 Axes>"
      ]
     },
     "metadata": {
      "needs_background": "light"
     },
     "output_type": "display_data"
    }
   ],
   "source": [
    "plt.plot(all_r,2.5*np.log10(all_aps),'bo')\n",
    "#plt.ylim(0.,2.5*np.log10(all_aps.max()))\n",
    "plt.grid()\n",
    "plt.ylim(16.2,16.4)"
   ]
  },
  {
   "cell_type": "code",
   "execution_count": null,
   "metadata": {},
   "outputs": [],
   "source": []
  }
 ],
 "metadata": {
  "kernelspec": {
   "display_name": "Python 3",
   "language": "python",
   "name": "python3"
  },
  "language_info": {
   "codemirror_mode": {
    "name": "ipython",
    "version": 3
   },
   "file_extension": ".py",
   "mimetype": "text/x-python",
   "name": "python",
   "nbconvert_exporter": "python",
   "pygments_lexer": "ipython3",
   "version": "3.6.7"
  },
  "toc": {
   "nav_menu": {},
   "number_sections": true,
   "sideBar": true,
   "skip_h1_title": false,
   "toc_cell": false,
   "toc_position": {},
   "toc_section_display": "block",
   "toc_window_display": false
  }
 },
 "nbformat": 4,
 "nbformat_minor": 2
}
